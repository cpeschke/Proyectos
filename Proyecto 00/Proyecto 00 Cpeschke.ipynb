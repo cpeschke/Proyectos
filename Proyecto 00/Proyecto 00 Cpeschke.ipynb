{
 "cells": [
  {
   "cell_type": "markdown",
   "metadata": {},
   "source": [
    "**Crear tablas de multiplicar**"
   ]
  },
  {
   "cell_type": "code",
   "execution_count": 1,
   "metadata": {},
   "outputs": [
    {
     "name": "stdout",
     "output_type": "stream",
     "text": [
      "ingrese numero de tablas a mostrar:2\n",
      "\n",
      ">\t 1>\t 2\n",
      " 1\t 1\t 2\n",
      " 2\t 2\t 4\n"
     ]
    }
   ],
   "source": [
    "n=int(input(\"ingrese numero de tablas a mostrar:\"))  #'n' es la cantidad de tablas a mostrar ingresado por el usuario\n",
    "print()\n",
    "for x in range(1,n+1):           # 'x' es un rango de numeros asignado por 'n' \n",
    "    print(\"\\t\",x,end =\"\")       # Imprime en pantalla los numeros asignado por 'n' y los muestra de forma horizontal\n",
    "        \n",
    "for y in range(1,n+1):           # 'y' es un rango de numeros asignado por 'n'\n",
    "    print(\"\\n\",y,end =\"\")        # Imprime en pantalla los numeros asignado por 'n' y lo muestra de forma Vertical\n",
    "    \n",
    "    for z in range (1,n+1):       #se crea un rango 'z' con los la cantidad de numero asignado por 'n'\n",
    "        print (\"\\t\",z*y, end=\"\")  # y se multiplica con eje 'y'\n",
    "print()\n",
    "    "
   ]
  },
  {
   "cell_type": "code",
   "execution_count": 2,
   "metadata": {},
   "outputs": [
    {
     "name": "stdout",
     "output_type": "stream",
     "text": [
      "ingrese numero de tablas a mostrar:3\n",
      "\n",
      ">\t 1>\t 2>\t 3\n",
      " 1\t 1\t 2\t 3\n",
      " 2\t 2\t 4\t 6\n",
      " 3\t 3\t 6\t 9\n"
     ]
    }
   ],
   "source": [
    "n=int(input(\"ingrese numero de tablas a mostrar:\"))  #'n' es la cantidad de tablas a mostrar ingresado por el usuario\n",
    "print()\n",
    "if n<=10:                            # Condicional que solo permitira ingresar un numero 'n' menor o igual a 10\n",
    "    for x in range(1,n+1):           # 'x' es un rango de numeros asignado por 'n' \n",
    "        print(\"\\t\",x,end =\"\")       # Imprime en pantalla los numeros asignado por 'n' y los muestra de forma horizontal\n",
    "        \n",
    "    for y in range(1,n+1):           # 'y' es un rango de numeros asignado por 'n'\n",
    "        print(\"\\n\",y,end =\"\")        # Imprime en pantalla los numeros asignado por 'n' y lo muestra de forma Vertical\n",
    "        \n",
    "        for z in range (1,n+1):       #se crea un rango 'z' con los la cantidad de numero asignado por 'n'\n",
    "            print (\"\\t\",z*y, end=\"\")  # y se multiplica con eje 'y'\n",
    "    print()\n",
    "else:\n",
    "    print(\"Solo puede ver tablas entre 1 a 10\")"
   ]
  },
  {
   "cell_type": "code",
   "execution_count": null,
   "metadata": {},
   "outputs": [],
   "source": []
  }
 ],
 "metadata": {
  "kernelspec": {
   "display_name": "Python 3",
   "language": "python",
   "name": "python3"
  },
  "language_info": {
   "codemirror_mode": {
    "name": "ipython",
    "version": 3
   },
   "file_extension": ".py",
   "mimetype": "text/x-python",
   "name": "python",
   "nbconvert_exporter": "python",
   "pygments_lexer": "ipython3",
   "version": "3.7.3"
  },
  "toc": {
   "base_numbering": 1,
   "nav_menu": {},
   "number_sections": true,
   "sideBar": true,
   "skip_h1_title": false,
   "title_cell": "Table of Contents",
   "title_sidebar": "Contents",
   "toc_cell": false,
   "toc_position": {},
   "toc_section_display": true,
   "toc_window_display": false
  }
 },
 "nbformat": 4,
 "nbformat_minor": 2
}
