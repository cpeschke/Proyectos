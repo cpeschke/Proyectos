{
 "cells": [
  {
   "cell_type": "code",
   "execution_count": 1,
   "metadata": {
    "colab": {
     "base_uri": "https://localhost:8080/",
     "height": 122
    },
    "colab_type": "code",
    "id": "FIoEPLS4AKwi",
    "outputId": "ca1966b4-d3fa-448a-b737-28bd56326b3a"
   },
   "outputs": [],
   "source": [
    "# from google.colab import drive\n",
    "# drive.mount('/content/drive')"
   ]
  },
  {
   "cell_type": "code",
   "execution_count": 2,
   "metadata": {
    "colab": {},
    "colab_type": "code",
    "id": "PWpxi0ke_7q6"
   },
   "outputs": [],
   "source": [
    "import pandas as pd\n",
    "import numpy as np\n",
    "import matplotlib.pyplot as plt\n",
    "import seaborn as sns\n",
    "sns.set(color_codes=True)"
   ]
  },
  {
   "cell_type": "code",
   "execution_count": 3,
   "metadata": {
    "colab": {},
    "colab_type": "code",
    "id": "8lKJWYLeAjox"
   },
   "outputs": [],
   "source": [
    "# credito = pd.read_csv('/content/drive/My Drive/Datasets/Credits/Credit.csv')"
   ]
  },
  {
   "cell_type": "code",
   "execution_count": 4,
   "metadata": {
    "colab": {},
    "colab_type": "code",
    "id": "wgtUBAmw_7rI"
   },
   "outputs": [],
   "source": [
    "credito = pd.read_csv('Credit.csv') "
   ]
  },
  {
   "cell_type": "code",
   "execution_count": 5,
   "metadata": {
    "colab": {
     "base_uri": "https://localhost:8080/",
     "height": 204
    },
    "colab_type": "code",
    "id": "lcZbqWZ0_7rP",
    "outputId": "c7e7cfbb-8f89-459e-c3c8-9e2de53dd277",
    "scrolled": true
   },
   "outputs": [
    {
     "data": {
      "text/html": [
       "<div>\n",
       "<style scoped>\n",
       "    .dataframe tbody tr th:only-of-type {\n",
       "        vertical-align: middle;\n",
       "    }\n",
       "\n",
       "    .dataframe tbody tr th {\n",
       "        vertical-align: top;\n",
       "    }\n",
       "\n",
       "    .dataframe thead th {\n",
       "        text-align: right;\n",
       "    }\n",
       "</style>\n",
       "<table border=\"1\" class=\"dataframe\">\n",
       "  <thead>\n",
       "    <tr style=\"text-align: right;\">\n",
       "      <th></th>\n",
       "      <th>Unnamed: 0</th>\n",
       "      <th>Income</th>\n",
       "      <th>Limit</th>\n",
       "      <th>Rating</th>\n",
       "      <th>Cards</th>\n",
       "      <th>Age</th>\n",
       "      <th>Education</th>\n",
       "      <th>Gender</th>\n",
       "      <th>Student</th>\n",
       "      <th>Married</th>\n",
       "      <th>Ethnicity</th>\n",
       "      <th>Balance</th>\n",
       "    </tr>\n",
       "  </thead>\n",
       "  <tbody>\n",
       "    <tr>\n",
       "      <th>0</th>\n",
       "      <td>1</td>\n",
       "      <td>14.891</td>\n",
       "      <td>3606</td>\n",
       "      <td>283</td>\n",
       "      <td>2</td>\n",
       "      <td>34</td>\n",
       "      <td>11</td>\n",
       "      <td>Male</td>\n",
       "      <td>No</td>\n",
       "      <td>Yes</td>\n",
       "      <td>Caucasian</td>\n",
       "      <td>333</td>\n",
       "    </tr>\n",
       "    <tr>\n",
       "      <th>1</th>\n",
       "      <td>2</td>\n",
       "      <td>106.025</td>\n",
       "      <td>6645</td>\n",
       "      <td>483</td>\n",
       "      <td>3</td>\n",
       "      <td>82</td>\n",
       "      <td>15</td>\n",
       "      <td>Female</td>\n",
       "      <td>Yes</td>\n",
       "      <td>Yes</td>\n",
       "      <td>Asian</td>\n",
       "      <td>903</td>\n",
       "    </tr>\n",
       "    <tr>\n",
       "      <th>2</th>\n",
       "      <td>3</td>\n",
       "      <td>104.593</td>\n",
       "      <td>7075</td>\n",
       "      <td>514</td>\n",
       "      <td>4</td>\n",
       "      <td>71</td>\n",
       "      <td>11</td>\n",
       "      <td>Male</td>\n",
       "      <td>No</td>\n",
       "      <td>No</td>\n",
       "      <td>Asian</td>\n",
       "      <td>580</td>\n",
       "    </tr>\n",
       "    <tr>\n",
       "      <th>3</th>\n",
       "      <td>4</td>\n",
       "      <td>148.924</td>\n",
       "      <td>9504</td>\n",
       "      <td>681</td>\n",
       "      <td>3</td>\n",
       "      <td>36</td>\n",
       "      <td>11</td>\n",
       "      <td>Female</td>\n",
       "      <td>No</td>\n",
       "      <td>No</td>\n",
       "      <td>Asian</td>\n",
       "      <td>964</td>\n",
       "    </tr>\n",
       "    <tr>\n",
       "      <th>4</th>\n",
       "      <td>5</td>\n",
       "      <td>55.882</td>\n",
       "      <td>4897</td>\n",
       "      <td>357</td>\n",
       "      <td>2</td>\n",
       "      <td>68</td>\n",
       "      <td>16</td>\n",
       "      <td>Male</td>\n",
       "      <td>No</td>\n",
       "      <td>Yes</td>\n",
       "      <td>Caucasian</td>\n",
       "      <td>331</td>\n",
       "    </tr>\n",
       "  </tbody>\n",
       "</table>\n",
       "</div>"
      ],
      "text/plain": [
       "   Unnamed: 0   Income  Limit  Rating  Cards  Age  Education  Gender Student  \\\n",
       "0           1   14.891   3606     283      2   34         11    Male      No   \n",
       "1           2  106.025   6645     483      3   82         15  Female     Yes   \n",
       "2           3  104.593   7075     514      4   71         11    Male      No   \n",
       "3           4  148.924   9504     681      3   36         11  Female      No   \n",
       "4           5   55.882   4897     357      2   68         16    Male      No   \n",
       "\n",
       "  Married  Ethnicity  Balance  \n",
       "0     Yes  Caucasian      333  \n",
       "1     Yes      Asian      903  \n",
       "2      No      Asian      580  \n",
       "3      No      Asian      964  \n",
       "4     Yes  Caucasian      331  "
      ]
     },
     "execution_count": 5,
     "metadata": {},
     "output_type": "execute_result"
    }
   ],
   "source": [
    "credito.head()"
   ]
  },
  {
   "cell_type": "code",
   "execution_count": 6,
   "metadata": {
    "colab": {
     "base_uri": "https://localhost:8080/",
     "height": 34
    },
    "colab_type": "code",
    "id": "y6VZm65d_7rg",
    "outputId": "9c2654f4-3fa7-4ab6-ef77-f7725626402c"
   },
   "outputs": [
    {
     "data": {
      "text/plain": [
       "(400, 12)"
      ]
     },
     "execution_count": 6,
     "metadata": {},
     "output_type": "execute_result"
    }
   ],
   "source": [
    "credito.shape"
   ]
  },
  {
   "cell_type": "markdown",
   "metadata": {
    "colab_type": "text",
    "id": "NQDJM8RNcds0"
   },
   "source": [
    "En esta actividad trabajaremos con un registro de clientes de un banco e información sobre su salud financiera. La base contenida en el csv `Credit` contiene las siguientes variables:\n",
    "\n",
    "* `Income`: Ingreso anual disponible en miles de dólares.\n",
    "* `Limit`: Límite del crédito.\n",
    "* `Rating`: Ranking del crédito.\n",
    "* `Cards`: Cantidad de tarjetas de crédito.\n",
    "* `Age`: Edad del usuario.\n",
    "* `Education`: Años de educación del usuario.\n",
    "* `Gender`: ¿Hombre o mujer?\n",
    "* `Student`: ¿Es estudiante?\n",
    "* `Married`: ¿Está casado?\n",
    "* `Ethnicity`: Etnicidad del usuario (Caucásico, Afroamericano, Asiático)\n",
    "* `Balance`: Promedio de deuda en tarjeta de crédito de usuario.\n"
   ]
  },
  {
   "cell_type": "markdown",
   "metadata": {
    "colab_type": "text",
    "id": "MwtEAEfC_7rm"
   },
   "source": [
    "# 1) Realizar un análisis exploratorio de los datos identificando la presencia de datos nulos y establezca una normativa para tratar dichos datos, identificar variables categóricas y cuantitativas.\n"
   ]
  },
  {
   "cell_type": "code",
   "execution_count": 7,
   "metadata": {
    "colab": {
     "base_uri": "https://localhost:8080/",
     "height": 238
    },
    "colab_type": "code",
    "id": "ixRr8a8R_7rZ",
    "outputId": "11b44b63-06f5-4edc-c3ac-4400ff6b5df5"
   },
   "outputs": [
    {
     "data": {
      "text/plain": [
       "Unnamed: 0      int64\n",
       "Income        float64\n",
       "Limit           int64\n",
       "Rating          int64\n",
       "Cards           int64\n",
       "Age             int64\n",
       "Education       int64\n",
       "Gender         object\n",
       "Student        object\n",
       "Married        object\n",
       "Ethnicity      object\n",
       "Balance         int64\n",
       "dtype: object"
      ]
     },
     "execution_count": 7,
     "metadata": {},
     "output_type": "execute_result"
    }
   ],
   "source": [
    "credito.dtypes"
   ]
  },
  {
   "cell_type": "markdown",
   "metadata": {
    "colab_type": "text",
    "id": "UEFTtGIfPcRU"
   },
   "source": [
    "La Columna **Income** es un dato que esta en formato **Float** lo cual representa un valor menor del que quiere representar y lo vamos a cambiar a **Entero(int)** asi el valor será fidedigno."
   ]
  },
  {
   "cell_type": "code",
   "execution_count": 8,
   "metadata": {
    "colab": {},
    "colab_type": "code",
    "id": "N6_ZKZrVPyej"
   },
   "outputs": [],
   "source": [
    "credito.Income=credito.Income.round(3).astype(str).str.replace('.','').astype(int)"
   ]
  },
  {
   "cell_type": "code",
   "execution_count": 9,
   "metadata": {
    "colab": {
     "base_uri": "https://localhost:8080/",
     "height": 204
    },
    "colab_type": "code",
    "id": "wHhvvg29P9Dd",
    "outputId": "62fced19-cc79-4e5b-b779-7f28746edf79"
   },
   "outputs": [
    {
     "data": {
      "text/html": [
       "<div>\n",
       "<style scoped>\n",
       "    .dataframe tbody tr th:only-of-type {\n",
       "        vertical-align: middle;\n",
       "    }\n",
       "\n",
       "    .dataframe tbody tr th {\n",
       "        vertical-align: top;\n",
       "    }\n",
       "\n",
       "    .dataframe thead th {\n",
       "        text-align: right;\n",
       "    }\n",
       "</style>\n",
       "<table border=\"1\" class=\"dataframe\">\n",
       "  <thead>\n",
       "    <tr style=\"text-align: right;\">\n",
       "      <th></th>\n",
       "      <th>Unnamed: 0</th>\n",
       "      <th>Income</th>\n",
       "      <th>Limit</th>\n",
       "      <th>Rating</th>\n",
       "      <th>Cards</th>\n",
       "      <th>Age</th>\n",
       "      <th>Education</th>\n",
       "      <th>Gender</th>\n",
       "      <th>Student</th>\n",
       "      <th>Married</th>\n",
       "      <th>Ethnicity</th>\n",
       "      <th>Balance</th>\n",
       "    </tr>\n",
       "  </thead>\n",
       "  <tbody>\n",
       "    <tr>\n",
       "      <th>0</th>\n",
       "      <td>1</td>\n",
       "      <td>14891</td>\n",
       "      <td>3606</td>\n",
       "      <td>283</td>\n",
       "      <td>2</td>\n",
       "      <td>34</td>\n",
       "      <td>11</td>\n",
       "      <td>Male</td>\n",
       "      <td>No</td>\n",
       "      <td>Yes</td>\n",
       "      <td>Caucasian</td>\n",
       "      <td>333</td>\n",
       "    </tr>\n",
       "    <tr>\n",
       "      <th>1</th>\n",
       "      <td>2</td>\n",
       "      <td>106025</td>\n",
       "      <td>6645</td>\n",
       "      <td>483</td>\n",
       "      <td>3</td>\n",
       "      <td>82</td>\n",
       "      <td>15</td>\n",
       "      <td>Female</td>\n",
       "      <td>Yes</td>\n",
       "      <td>Yes</td>\n",
       "      <td>Asian</td>\n",
       "      <td>903</td>\n",
       "    </tr>\n",
       "    <tr>\n",
       "      <th>2</th>\n",
       "      <td>3</td>\n",
       "      <td>104593</td>\n",
       "      <td>7075</td>\n",
       "      <td>514</td>\n",
       "      <td>4</td>\n",
       "      <td>71</td>\n",
       "      <td>11</td>\n",
       "      <td>Male</td>\n",
       "      <td>No</td>\n",
       "      <td>No</td>\n",
       "      <td>Asian</td>\n",
       "      <td>580</td>\n",
       "    </tr>\n",
       "    <tr>\n",
       "      <th>3</th>\n",
       "      <td>4</td>\n",
       "      <td>148924</td>\n",
       "      <td>9504</td>\n",
       "      <td>681</td>\n",
       "      <td>3</td>\n",
       "      <td>36</td>\n",
       "      <td>11</td>\n",
       "      <td>Female</td>\n",
       "      <td>No</td>\n",
       "      <td>No</td>\n",
       "      <td>Asian</td>\n",
       "      <td>964</td>\n",
       "    </tr>\n",
       "    <tr>\n",
       "      <th>4</th>\n",
       "      <td>5</td>\n",
       "      <td>55882</td>\n",
       "      <td>4897</td>\n",
       "      <td>357</td>\n",
       "      <td>2</td>\n",
       "      <td>68</td>\n",
       "      <td>16</td>\n",
       "      <td>Male</td>\n",
       "      <td>No</td>\n",
       "      <td>Yes</td>\n",
       "      <td>Caucasian</td>\n",
       "      <td>331</td>\n",
       "    </tr>\n",
       "  </tbody>\n",
       "</table>\n",
       "</div>"
      ],
      "text/plain": [
       "   Unnamed: 0  Income  Limit  Rating  Cards  Age  Education  Gender Student  \\\n",
       "0           1   14891   3606     283      2   34         11    Male      No   \n",
       "1           2  106025   6645     483      3   82         15  Female     Yes   \n",
       "2           3  104593   7075     514      4   71         11    Male      No   \n",
       "3           4  148924   9504     681      3   36         11  Female      No   \n",
       "4           5   55882   4897     357      2   68         16    Male      No   \n",
       "\n",
       "  Married  Ethnicity  Balance  \n",
       "0     Yes  Caucasian      333  \n",
       "1     Yes      Asian      903  \n",
       "2      No      Asian      580  \n",
       "3      No      Asian      964  \n",
       "4     Yes  Caucasian      331  "
      ]
     },
     "execution_count": 9,
     "metadata": {},
     "output_type": "execute_result"
    }
   ],
   "source": [
    "credito.head()"
   ]
  },
  {
   "cell_type": "markdown",
   "metadata": {
    "colab_type": "text",
    "id": "pkij00yr_7rq"
   },
   "source": [
    "Vistazo para identificar datos nulos"
   ]
  },
  {
   "cell_type": "code",
   "execution_count": 10,
   "metadata": {
    "colab": {
     "base_uri": "https://localhost:8080/",
     "height": 238
    },
    "colab_type": "code",
    "id": "yeZBc8HN_7rs",
    "outputId": "ee0cc707-5f2b-4f7a-fc30-5914cd2d03b8",
    "scrolled": false
   },
   "outputs": [
    {
     "data": {
      "text/plain": [
       "Unnamed: 0    0\n",
       "Income        0\n",
       "Limit         0\n",
       "Rating        0\n",
       "Cards         0\n",
       "Age           0\n",
       "Education     0\n",
       "Gender        0\n",
       "Student       0\n",
       "Married       0\n",
       "Ethnicity     0\n",
       "Balance       0\n",
       "dtype: int64"
      ]
     },
     "execution_count": 10,
     "metadata": {},
     "output_type": "execute_result"
    }
   ],
   "source": [
    "credito.isnull().sum()"
   ]
  },
  {
   "cell_type": "markdown",
   "metadata": {
    "colab_type": "text",
    "id": "L1mtg9do_7rz"
   },
   "source": [
    "El Dataset **credito** no cuenta con datos nulos o vacios"
   ]
  },
  {
   "cell_type": "markdown",
   "metadata": {
    "colab_type": "text",
    "id": "98Ie_RK9_7r2"
   },
   "source": [
    "__columnas categoricas__: 'Gender' , 'Student' , 'Married' , 'Ethnicity'.\n",
    "\n",
    "__columnas cuantitativas continuas__: 'Income' , 'Limit' , 'Rating' , 'Balance'.\n",
    "\n",
    "__Cuantitativas discretas__: 'Age' , 'Cards' , 'Education'"
   ]
  },
  {
   "cell_type": "code",
   "execution_count": 11,
   "metadata": {
    "colab": {
     "base_uri": "https://localhost:8080/",
     "height": 111
    },
    "colab_type": "code",
    "id": "RgaVZ2mz_7r6",
    "outputId": "6e1080dc-5c56-4d4c-afb1-8edfb21c3ff4",
    "scrolled": true
   },
   "outputs": [
    {
     "data": {
      "text/html": [
       "<div>\n",
       "<style scoped>\n",
       "    .dataframe tbody tr th:only-of-type {\n",
       "        vertical-align: middle;\n",
       "    }\n",
       "\n",
       "    .dataframe tbody tr th {\n",
       "        vertical-align: top;\n",
       "    }\n",
       "\n",
       "    .dataframe thead th {\n",
       "        text-align: right;\n",
       "    }\n",
       "</style>\n",
       "<table border=\"1\" class=\"dataframe\">\n",
       "  <thead>\n",
       "    <tr style=\"text-align: right;\">\n",
       "      <th></th>\n",
       "      <th>Unnamed: 0</th>\n",
       "      <th>Income</th>\n",
       "      <th>Limit</th>\n",
       "      <th>Rating</th>\n",
       "      <th>Cards</th>\n",
       "      <th>Age</th>\n",
       "      <th>Education</th>\n",
       "      <th>Gender</th>\n",
       "      <th>Student</th>\n",
       "      <th>Married</th>\n",
       "      <th>Ethnicity</th>\n",
       "      <th>Balance</th>\n",
       "    </tr>\n",
       "  </thead>\n",
       "  <tbody>\n",
       "    <tr>\n",
       "      <th>0</th>\n",
       "      <td>1</td>\n",
       "      <td>14891</td>\n",
       "      <td>3606</td>\n",
       "      <td>283</td>\n",
       "      <td>2</td>\n",
       "      <td>34</td>\n",
       "      <td>11</td>\n",
       "      <td>Male</td>\n",
       "      <td>No</td>\n",
       "      <td>Yes</td>\n",
       "      <td>Caucasian</td>\n",
       "      <td>333</td>\n",
       "    </tr>\n",
       "    <tr>\n",
       "      <th>1</th>\n",
       "      <td>2</td>\n",
       "      <td>106025</td>\n",
       "      <td>6645</td>\n",
       "      <td>483</td>\n",
       "      <td>3</td>\n",
       "      <td>82</td>\n",
       "      <td>15</td>\n",
       "      <td>Female</td>\n",
       "      <td>Yes</td>\n",
       "      <td>Yes</td>\n",
       "      <td>Asian</td>\n",
       "      <td>903</td>\n",
       "    </tr>\n",
       "  </tbody>\n",
       "</table>\n",
       "</div>"
      ],
      "text/plain": [
       "   Unnamed: 0  Income  Limit  Rating  Cards  Age  Education  Gender Student  \\\n",
       "0           1   14891   3606     283      2   34         11    Male      No   \n",
       "1           2  106025   6645     483      3   82         15  Female     Yes   \n",
       "\n",
       "  Married  Ethnicity  Balance  \n",
       "0     Yes  Caucasian      333  \n",
       "1     Yes      Asian      903  "
      ]
     },
     "execution_count": 11,
     "metadata": {},
     "output_type": "execute_result"
    }
   ],
   "source": [
    "credito.head(2)"
   ]
  },
  {
   "cell_type": "markdown",
   "metadata": {
    "colab_type": "text",
    "id": "s_3bYC-Qdcpt"
   },
   "source": [
    "Se ve una columna que no tiene datos que sean utilizables, asi que eliminaremos '__Unnamed: 0__' "
   ]
  },
  {
   "cell_type": "code",
   "execution_count": 12,
   "metadata": {
    "colab": {},
    "colab_type": "code",
    "id": "NSFtMOGJeEtr"
   },
   "outputs": [],
   "source": [
    "credito.drop('Unnamed: 0',axis=1,inplace=True)"
   ]
  },
  {
   "cell_type": "markdown",
   "metadata": {
    "colab_type": "text",
    "id": "LesrUs7P_7sE"
   },
   "source": [
    "# 2)  Identifique y establezca un protocolo para tratar outliers."
   ]
  },
  {
   "cell_type": "markdown",
   "metadata": {
    "colab_type": "text",
    "id": "xga49IEy_7sG"
   },
   "source": [
    "Revisaremos el dataset para saber si hay datos atípicos(Outliers), para ello solo tomaremos las columnas numericas con\n",
    "**_get** **_numeric** **_data**_"
   ]
  },
  {
   "cell_type": "code",
   "execution_count": 13,
   "metadata": {
    "colab": {
     "base_uri": "https://localhost:8080/",
     "height": 34
    },
    "colab_type": "code",
    "id": "Spl3tZBX_7sJ",
    "outputId": "319bdc61-dfad-408f-f00e-2f7da5d19bc9",
    "scrolled": true
   },
   "outputs": [
    {
     "data": {
      "text/plain": [
       "7"
      ]
     },
     "execution_count": 13,
     "metadata": {},
     "output_type": "execute_result"
    }
   ],
   "source": [
    "num_credito = credito._get_numeric_data() #nos quedamos solo con las columnas que son numericas\n",
    "len(num_credito.columns) #cant de columnas que son numericas"
   ]
  },
  {
   "cell_type": "code",
   "execution_count": 14,
   "metadata": {
    "colab": {
     "base_uri": "https://localhost:8080/",
     "height": 696
    },
    "colab_type": "code",
    "id": "lTpdTiQC_7sP",
    "outputId": "a2931d1a-239f-4857-bf21-39dc9c3b27ce"
   },
   "outputs": [
    {
     "data": {
      "image/png": "[encoded data removed]",
      "text/plain": [
       "<Figure size 1080x576 with 1 Axes>"
      ]
     },
     "metadata": {
      "needs_background": "light"
     },
     "output_type": "display_data"
    },
    {
     "data": {
      "image/png": "[encoded data removed]",
      "text/plain": [
       "<Figure size 1080x576 with 1 Axes>"
      ]
     },
     "metadata": {
      "needs_background": "light"
     },
     "output_type": "display_data"
    },
    {
     "data": {
      "image/png": "[encoded data removed]",
      "text/plain": [
       "<Figure size 1080x576 with 1 Axes>"
      ]
     },
     "metadata": {
      "needs_background": "light"
     },
     "output_type": "display_data"
    },
    {
     "data": {
      "image/png": "[encoded data removed]",
      "text/plain": [
       "<Figure size 1080x576 with 1 Axes>"
      ]
     },
     "metadata": {
      "needs_background": "light"
     },
     "output_type": "display_data"
    },
    {
     "data": {
      "image/png": "[encoded data removed]",
      "text/plain": [
       "<Figure size 1080x576 with 1 Axes>"
      ]
     },
     "metadata": {
      "needs_background": "light"
     },
     "output_type": "display_data"
    },
    {
     "data": {
      "image/png": "[encoded data removed]",
      "text/plain": [
       "<Figure size 1080x576 with 1 Axes>"
      ]
     },
     "metadata": {
      "needs_background": "light"
     },
     "output_type": "display_data"
    },
    {
     "data": {
      "image/png": "[encoded data removed]",
      "text/plain": [
       "<Figure size 1080x576 with 1 Axes>"
      ]
     },
     "metadata": {
      "needs_background": "light"
     },
     "output_type": "display_data"
    }
   ],
   "source": [
    "for index, values in enumerate(num_credito):\n",
    "    plt.figure(figsize=(15,8))\n",
    "    plt.subplot(8,1,index+1)\n",
    "    sns.boxplot(num_credito[values])\n"
   ]
  },
  {
   "cell_type": "markdown",
   "metadata": {
    "colab_type": "text",
    "id": "pqM-1B09_7sW"
   },
   "source": [
    "Observamos que hay columnas que no cuentan con datos atípicos por lo cual dejaremos las que si tienen y asi analizar si son datos que se escapan o que en realidad se pueden considerar como medida."
   ]
  },
  {
   "cell_type": "code",
   "execution_count": 15,
   "metadata": {
    "colab": {},
    "colab_type": "code",
    "id": "Y9fr3A3R_7sY"
   },
   "outputs": [],
   "source": [
    "col_con_outliers = num_credito[['Income','Limit','Rating','Cards']]"
   ]
  },
  {
   "cell_type": "code",
   "execution_count": 16,
   "metadata": {
    "colab": {
     "base_uri": "https://localhost:8080/",
     "height": 405
    },
    "colab_type": "code",
    "id": "eaoR6NY-cXbh",
    "outputId": "b109cfa7-09a7-49dd-9408-e36127f95cf1"
   },
   "outputs": [
    {
     "data": {
      "image/png": "[encoded data removed]",
      "text/plain": [
       "<Figure size 1080x576 with 1 Axes>"
      ]
     },
     "metadata": {
      "needs_background": "light"
     },
     "output_type": "display_data"
    },
    {
     "data": {
      "image/png": "[encoded data removed]",
      "text/plain": [
       "<Figure size 1080x576 with 1 Axes>"
      ]
     },
     "metadata": {
      "needs_background": "light"
     },
     "output_type": "display_data"
    },
    {
     "data": {
      "image/png": "[encoded data removed]",
      "text/plain": [
       "<Figure size 1080x576 with 1 Axes>"
      ]
     },
     "metadata": {
      "needs_background": "light"
     },
     "output_type": "display_data"
    },
    {
     "data": {
      "image/png": "[encoded data removed]",
      "text/plain": [
       "<Figure size 1080x576 with 1 Axes>"
      ]
     },
     "metadata": {
      "needs_background": "light"
     },
     "output_type": "display_data"
    }
   ],
   "source": [
    "for index, values in enumerate(col_con_outliers):\n",
    "    plt.figure(figsize=(15,8))\n",
    "    plt.subplot(8,1,index+1)\n",
    "    sns.boxplot(num_credito[values])"
   ]
  },
  {
   "cell_type": "code",
   "execution_count": 17,
   "metadata": {
    "colab": {
     "base_uri": "https://localhost:8080/",
     "height": 297
    },
    "colab_type": "code",
    "id": "MjyAlzou_7sd",
    "outputId": "8c9d12f5-f1ab-47ca-e5c2-fdc329e4698b",
    "scrolled": false
   },
   "outputs": [
    {
     "data": {
      "text/html": [
       "<div>\n",
       "<style scoped>\n",
       "    .dataframe tbody tr th:only-of-type {\n",
       "        vertical-align: middle;\n",
       "    }\n",
       "\n",
       "    .dataframe tbody tr th {\n",
       "        vertical-align: top;\n",
       "    }\n",
       "\n",
       "    .dataframe thead th {\n",
       "        text-align: right;\n",
       "    }\n",
       "</style>\n",
       "<table border=\"1\" class=\"dataframe\">\n",
       "  <thead>\n",
       "    <tr style=\"text-align: right;\">\n",
       "      <th></th>\n",
       "      <th>Income</th>\n",
       "      <th>Limit</th>\n",
       "      <th>Rating</th>\n",
       "      <th>Cards</th>\n",
       "    </tr>\n",
       "  </thead>\n",
       "  <tbody>\n",
       "    <tr>\n",
       "      <th>count</th>\n",
       "      <td>400.000000</td>\n",
       "      <td>400.000000</td>\n",
       "      <td>400.000000</td>\n",
       "      <td>400.000000</td>\n",
       "    </tr>\n",
       "    <tr>\n",
       "      <th>mean</th>\n",
       "      <td>40674.582500</td>\n",
       "      <td>4735.600000</td>\n",
       "      <td>354.940000</td>\n",
       "      <td>2.957500</td>\n",
       "    </tr>\n",
       "    <tr>\n",
       "      <th>std</th>\n",
       "      <td>35521.124353</td>\n",
       "      <td>2308.198848</td>\n",
       "      <td>154.724143</td>\n",
       "      <td>1.371275</td>\n",
       "    </tr>\n",
       "    <tr>\n",
       "      <th>min</th>\n",
       "      <td>120.000000</td>\n",
       "      <td>855.000000</td>\n",
       "      <td>93.000000</td>\n",
       "      <td>1.000000</td>\n",
       "    </tr>\n",
       "    <tr>\n",
       "      <th>25%</th>\n",
       "      <td>16481.250000</td>\n",
       "      <td>3088.000000</td>\n",
       "      <td>247.250000</td>\n",
       "      <td>2.000000</td>\n",
       "    </tr>\n",
       "    <tr>\n",
       "      <th>50%</th>\n",
       "      <td>29715.000000</td>\n",
       "      <td>4622.500000</td>\n",
       "      <td>344.000000</td>\n",
       "      <td>3.000000</td>\n",
       "    </tr>\n",
       "    <tr>\n",
       "      <th>75%</th>\n",
       "      <td>53778.250000</td>\n",
       "      <td>5872.750000</td>\n",
       "      <td>437.250000</td>\n",
       "      <td>4.000000</td>\n",
       "    </tr>\n",
       "    <tr>\n",
       "      <th>max</th>\n",
       "      <td>186634.000000</td>\n",
       "      <td>13913.000000</td>\n",
       "      <td>982.000000</td>\n",
       "      <td>9.000000</td>\n",
       "    </tr>\n",
       "  </tbody>\n",
       "</table>\n",
       "</div>"
      ],
      "text/plain": [
       "              Income         Limit      Rating       Cards\n",
       "count     400.000000    400.000000  400.000000  400.000000\n",
       "mean    40674.582500   4735.600000  354.940000    2.957500\n",
       "std     35521.124353   2308.198848  154.724143    1.371275\n",
       "min       120.000000    855.000000   93.000000    1.000000\n",
       "25%     16481.250000   3088.000000  247.250000    2.000000\n",
       "50%     29715.000000   4622.500000  344.000000    3.000000\n",
       "75%     53778.250000   5872.750000  437.250000    4.000000\n",
       "max    186634.000000  13913.000000  982.000000    9.000000"
      ]
     },
     "execution_count": 17,
     "metadata": {},
     "output_type": "execute_result"
    }
   ],
   "source": [
    "col_con_outliers.describe()"
   ]
  },
  {
   "cell_type": "code",
   "execution_count": 18,
   "metadata": {
    "colab": {},
    "colab_type": "code",
    "id": "Bg5R3o9F_7sq"
   },
   "outputs": [],
   "source": [
    "outliers=col_con_outliers.apply((lambda x: (x<(x.mean()-x.std()*3)) | (x>(x.mean()+x.std()*3)))).sum() "
   ]
  },
  {
   "cell_type": "code",
   "execution_count": 19,
   "metadata": {
    "colab": {
     "base_uri": "https://localhost:8080/",
     "height": 102
    },
    "colab_type": "code",
    "id": "_RCsUr0o_7sw",
    "outputId": "2a9e1e5b-1410-4477-ae15-51fffb727b56"
   },
   "outputs": [
    {
     "data": {
      "text/plain": [
       "Income    11\n",
       "Limit      4\n",
       "Rating     4\n",
       "Cards      2\n",
       "dtype: int64"
      ]
     },
     "execution_count": 19,
     "metadata": {},
     "output_type": "execute_result"
    }
   ],
   "source": [
    "outliers"
   ]
  },
  {
   "cell_type": "code",
   "execution_count": 20,
   "metadata": {},
   "outputs": [
    {
     "data": {
      "image/png": "[encoded data removed]",
      "text/plain": [
       "<Figure size 720x432 with 1 Axes>"
      ]
     },
     "metadata": {
      "needs_background": "light"
     },
     "output_type": "display_data"
    }
   ],
   "source": [
    "credito.Income.plot.hist(figsize=(10,6));"
   ]
  },
  {
   "cell_type": "markdown",
   "metadata": {
    "colab_type": "text",
    "id": "IuAus5sy_7s3"
   },
   "source": [
    "Podemos pensar que estos datos son Outliers, pero analizando el caso de __Income__, el cual es el ingreso anual disponible en miles de dolares, hay personas que pueden ganar mucho más que los demás lo cual no considero un dato atípico(Outlier). Lo mismo podemos decir de la columna **Limit** ya que esta relacionada con **Income** porque es el credito que el banco da dependiendo de cuanto gana la persona. Y **Rating** es el puntaje que sirve para rankear a la persona y asi asignar el `Credito`.\n",
    "\n",
    "**Asi que no eliminaremos o modificaremos ningun dato Outliers**"
   ]
  },
  {
   "cell_type": "markdown",
   "metadata": {
    "colab_type": "text",
    "id": "mT46y089_7tA"
   },
   "source": [
    "# 3)  Generar análisis exploratorio basándose en variables de su interés.\n"
   ]
  },
  {
   "cell_type": "code",
   "execution_count": 21,
   "metadata": {
    "colab": {
     "base_uri": "https://localhost:8080/",
     "height": 204
    },
    "colab_type": "code",
    "id": "OWEnsRdh_7tC",
    "outputId": "60ca8c40-155e-4f4a-d24f-5bd5001d699a"
   },
   "outputs": [
    {
     "data": {
      "text/html": [
       "<div>\n",
       "<style scoped>\n",
       "    .dataframe tbody tr th:only-of-type {\n",
       "        vertical-align: middle;\n",
       "    }\n",
       "\n",
       "    .dataframe tbody tr th {\n",
       "        vertical-align: top;\n",
       "    }\n",
       "\n",
       "    .dataframe thead th {\n",
       "        text-align: right;\n",
       "    }\n",
       "</style>\n",
       "<table border=\"1\" class=\"dataframe\">\n",
       "  <thead>\n",
       "    <tr style=\"text-align: right;\">\n",
       "      <th></th>\n",
       "      <th>Income</th>\n",
       "      <th>Limit</th>\n",
       "      <th>Rating</th>\n",
       "      <th>Cards</th>\n",
       "      <th>Age</th>\n",
       "      <th>Education</th>\n",
       "      <th>Gender</th>\n",
       "      <th>Student</th>\n",
       "      <th>Married</th>\n",
       "      <th>Ethnicity</th>\n",
       "      <th>Balance</th>\n",
       "    </tr>\n",
       "  </thead>\n",
       "  <tbody>\n",
       "    <tr>\n",
       "      <th>0</th>\n",
       "      <td>14891</td>\n",
       "      <td>3606</td>\n",
       "      <td>283</td>\n",
       "      <td>2</td>\n",
       "      <td>34</td>\n",
       "      <td>11</td>\n",
       "      <td>Male</td>\n",
       "      <td>No</td>\n",
       "      <td>Yes</td>\n",
       "      <td>Caucasian</td>\n",
       "      <td>333</td>\n",
       "    </tr>\n",
       "    <tr>\n",
       "      <th>1</th>\n",
       "      <td>106025</td>\n",
       "      <td>6645</td>\n",
       "      <td>483</td>\n",
       "      <td>3</td>\n",
       "      <td>82</td>\n",
       "      <td>15</td>\n",
       "      <td>Female</td>\n",
       "      <td>Yes</td>\n",
       "      <td>Yes</td>\n",
       "      <td>Asian</td>\n",
       "      <td>903</td>\n",
       "    </tr>\n",
       "    <tr>\n",
       "      <th>2</th>\n",
       "      <td>104593</td>\n",
       "      <td>7075</td>\n",
       "      <td>514</td>\n",
       "      <td>4</td>\n",
       "      <td>71</td>\n",
       "      <td>11</td>\n",
       "      <td>Male</td>\n",
       "      <td>No</td>\n",
       "      <td>No</td>\n",
       "      <td>Asian</td>\n",
       "      <td>580</td>\n",
       "    </tr>\n",
       "    <tr>\n",
       "      <th>3</th>\n",
       "      <td>148924</td>\n",
       "      <td>9504</td>\n",
       "      <td>681</td>\n",
       "      <td>3</td>\n",
       "      <td>36</td>\n",
       "      <td>11</td>\n",
       "      <td>Female</td>\n",
       "      <td>No</td>\n",
       "      <td>No</td>\n",
       "      <td>Asian</td>\n",
       "      <td>964</td>\n",
       "    </tr>\n",
       "    <tr>\n",
       "      <th>4</th>\n",
       "      <td>55882</td>\n",
       "      <td>4897</td>\n",
       "      <td>357</td>\n",
       "      <td>2</td>\n",
       "      <td>68</td>\n",
       "      <td>16</td>\n",
       "      <td>Male</td>\n",
       "      <td>No</td>\n",
       "      <td>Yes</td>\n",
       "      <td>Caucasian</td>\n",
       "      <td>331</td>\n",
       "    </tr>\n",
       "  </tbody>\n",
       "</table>\n",
       "</div>"
      ],
      "text/plain": [
       "   Income  Limit  Rating  Cards  Age  Education  Gender Student Married  \\\n",
       "0   14891   3606     283      2   34         11    Male      No     Yes   \n",
       "1  106025   6645     483      3   82         15  Female     Yes     Yes   \n",
       "2  104593   7075     514      4   71         11    Male      No      No   \n",
       "3  148924   9504     681      3   36         11  Female      No      No   \n",
       "4   55882   4897     357      2   68         16    Male      No     Yes   \n",
       "\n",
       "   Ethnicity  Balance  \n",
       "0  Caucasian      333  \n",
       "1      Asian      903  \n",
       "2      Asian      580  \n",
       "3      Asian      964  \n",
       "4  Caucasian      331  "
      ]
     },
     "execution_count": 21,
     "metadata": {},
     "output_type": "execute_result"
    }
   ],
   "source": [
    "credito.head()"
   ]
  },
  {
   "cell_type": "markdown",
   "metadata": {
    "colab_type": "text",
    "id": "sVLpDJ-J_7tl"
   },
   "source": [
    "* ¿Cuantas personas son __estudiantes__ y tienen tarjetas?"
   ]
  },
  {
   "cell_type": "code",
   "execution_count": 22,
   "metadata": {
    "colab": {
     "base_uri": "https://localhost:8080/",
     "height": 34
    },
    "colab_type": "code",
    "id": "kWTQMmnf_7tp",
    "outputId": "4e895571-f2ca-4403-9741-70dd17a9e926",
    "scrolled": true
   },
   "outputs": [
    {
     "name": "stdout",
     "output_type": "stream",
     "text": [
      "De un total de 400 personas, hay 40 estudiantes que tienen Tarjetas\n"
     ]
    }
   ],
   "source": [
    "print(f'De un total de {len(credito)} personas, hay {len(credito[credito[\"Student\"]==\"Yes\"].reset_index(drop=True))} estudiantes que tienen Tarjetas')"
   ]
  },
  {
   "cell_type": "markdown",
   "metadata": {},
   "source": [
    "    Representemos esto en un gráfico"
   ]
  },
  {
   "cell_type": "code",
   "execution_count": 23,
   "metadata": {
    "colab": {
     "base_uri": "https://localhost:8080/",
     "height": 377
    },
    "colab_type": "code",
    "id": "fhK18UGIkp1T",
    "outputId": "a4d21419-57df-4ced-b049-2dac99a8ca97"
   },
   "outputs": [
    {
     "data": {
      "image/png": "[encoded data removed]",
      "text/plain": [
       "<Figure size 1440x576 with 1 Axes>"
      ]
     },
     "metadata": {},
     "output_type": "display_data"
    }
   ],
   "source": [
    "plt.figure(figsize=(20,8))\n",
    "credito.Student.value_counts().plot(kind='pie',startangle=90,autopct='%1.1f%%')\n",
    "plt.title('Estudiantes',fontdict={'fontsize':15})\n",
    "plt.ylabel('');\n"
   ]
  },
  {
   "cell_type": "markdown",
   "metadata": {
    "colab_type": "text",
    "id": "UuQ5St_b_7tw"
   },
   "source": [
    "* ¿Cuantas personas son __solteras__ ?"
   ]
  },
  {
   "cell_type": "code",
   "execution_count": 24,
   "metadata": {
    "colab": {
     "base_uri": "https://localhost:8080/",
     "height": 34
    },
    "colab_type": "code",
    "id": "nP0D3Vk8_7ty",
    "outputId": "7c387165-f3eb-4c3e-fdd6-beb12bdd4c1a"
   },
   "outputs": [
    {
     "name": "stdout",
     "output_type": "stream",
     "text": [
      "De un total de 400 personas, hay 155 Solteros\n"
     ]
    }
   ],
   "source": [
    "print(f'De un total de {len(credito)} personas, hay {len(credito[credito[\"Married\"]==\"No\"])} Solteros')"
   ]
  },
  {
   "cell_type": "markdown",
   "metadata": {},
   "source": [
    "    Como se verá en un gráfico"
   ]
  },
  {
   "cell_type": "code",
   "execution_count": 25,
   "metadata": {},
   "outputs": [
    {
     "data": {
      "image/png": "[encoded data removed]",
      "text/plain": [
       "<Figure size 1440x576 with 1 Axes>"
      ]
     },
     "metadata": {},
     "output_type": "display_data"
    }
   ],
   "source": [
    "plt.figure(figsize=(20,8))\n",
    "credito.Married.value_counts().plot(kind='pie',startangle=90,autopct='%1.1f%%')\n",
    "plt.title('Casados',fontdict={'fontsize':15})\n",
    "plt.ylabel('');"
   ]
  },
  {
   "cell_type": "markdown",
   "metadata": {
    "colab_type": "text",
    "id": "Bgz7gMYjcrck"
   },
   "source": [
    "* ¿Cuantas personas no tienen **ninguna deuda** y que **edad** tiene el que debe más dinero?"
   ]
  },
  {
   "cell_type": "code",
   "execution_count": 26,
   "metadata": {
    "colab": {
     "base_uri": "https://localhost:8080/",
     "height": 34
    },
    "colab_type": "code",
    "id": "1NReTexvdKst",
    "outputId": "fdeea596-5c3e-49ee-d530-171029251408"
   },
   "outputs": [
    {
     "name": "stdout",
     "output_type": "stream",
     "text": [
      "90 son las personas que no tienen ninguna deuda y la edad de la persona que debe más dinero tiene 98 años\n"
     ]
    }
   ],
   "source": [
    "print(f'{len(credito[credito[\"Balance\"]==0])} son las personas que no tienen ninguna deuda y la edad de la persona que debe más dinero tiene {credito[\"Age\"].iloc[credito[\"Balance\"].agg(\"idxmax\")]} años')"
   ]
  },
  {
   "cell_type": "markdown",
   "metadata": {
    "colab_type": "text",
    "id": "0RYi1bEa_7tJ"
   },
   "source": [
    "* Veamos quien tiene los mayores ingresos de cada __Genero__"
   ]
  },
  {
   "cell_type": "code",
   "execution_count": 27,
   "metadata": {
    "colab": {
     "base_uri": "https://localhost:8080/",
     "height": 111
    },
    "colab_type": "code",
    "id": "dbVxpQ5E_7tL",
    "outputId": "9fa06c55-c83b-4387-e1ca-5c690b506350",
    "scrolled": false
   },
   "outputs": [
    {
     "data": {
      "text/html": [
       "<div>\n",
       "<style scoped>\n",
       "    .dataframe tbody tr th:only-of-type {\n",
       "        vertical-align: middle;\n",
       "    }\n",
       "\n",
       "    .dataframe tbody tr th {\n",
       "        vertical-align: top;\n",
       "    }\n",
       "\n",
       "    .dataframe thead th {\n",
       "        text-align: right;\n",
       "    }\n",
       "</style>\n",
       "<table border=\"1\" class=\"dataframe\">\n",
       "  <thead>\n",
       "    <tr style=\"text-align: right;\">\n",
       "      <th></th>\n",
       "      <th>Income</th>\n",
       "      <th>Limit</th>\n",
       "      <th>Rating</th>\n",
       "      <th>Cards</th>\n",
       "      <th>Age</th>\n",
       "      <th>Education</th>\n",
       "      <th>Gender</th>\n",
       "      <th>Student</th>\n",
       "      <th>Married</th>\n",
       "      <th>Ethnicity</th>\n",
       "      <th>Balance</th>\n",
       "    </tr>\n",
       "  </thead>\n",
       "  <tbody>\n",
       "    <tr>\n",
       "      <th>0</th>\n",
       "      <td>182728</td>\n",
       "      <td>13913</td>\n",
       "      <td>982</td>\n",
       "      <td>4</td>\n",
       "      <td>98</td>\n",
       "      <td>17</td>\n",
       "      <td>Male</td>\n",
       "      <td>No</td>\n",
       "      <td>Yes</td>\n",
       "      <td>Caucasian</td>\n",
       "      <td>1999</td>\n",
       "    </tr>\n",
       "    <tr>\n",
       "      <th>1</th>\n",
       "      <td>186634</td>\n",
       "      <td>13414</td>\n",
       "      <td>949</td>\n",
       "      <td>2</td>\n",
       "      <td>41</td>\n",
       "      <td>14</td>\n",
       "      <td>Female</td>\n",
       "      <td>No</td>\n",
       "      <td>Yes</td>\n",
       "      <td>African American</td>\n",
       "      <td>1809</td>\n",
       "    </tr>\n",
       "  </tbody>\n",
       "</table>\n",
       "</div>"
      ],
      "text/plain": [
       "   Income  Limit  Rating  Cards  Age  Education  Gender Student Married  \\\n",
       "0  182728  13913     982      4   98         17    Male      No     Yes   \n",
       "1  186634  13414     949      2   41         14  Female      No     Yes   \n",
       "\n",
       "          Ethnicity  Balance  \n",
       "0         Caucasian     1999  \n",
       "1  African American     1809  "
      ]
     },
     "execution_count": 27,
     "metadata": {},
     "output_type": "execute_result"
    }
   ],
   "source": [
    "credito.loc[credito.groupby('Gender').Income.agg('idxmax')].reset_index(drop=True)"
   ]
  },
  {
   "cell_type": "markdown",
   "metadata": {
    "colab": {},
    "colab_type": "code",
    "id": "a7Ba9DHmBz9J"
   },
   "source": [
    "Podemos observar que hay uno de los hombres que más gana tiene **98** años y una mujer de **41** años, gana más que cualquier hombre."
   ]
  },
  {
   "cell_type": "markdown",
   "metadata": {
    "colab_type": "text",
    "id": "W6HrgsKijiER"
   },
   "source": [
    "* En base a lo anterior, en promedio ¿Ganaran más las mujeres o los hombres al año?"
   ]
  },
  {
   "cell_type": "code",
   "execution_count": 28,
   "metadata": {
    "colab": {
     "base_uri": "https://localhost:8080/",
     "height": 316
    },
    "colab_type": "code",
    "id": "8LLIh1MsjppY",
    "outputId": "da20988a-fd21-47b1-a0d0-ed250cebb5fc"
   },
   "outputs": [
    {
     "data": {
      "image/png": "[encoded data removed]",
      "text/plain": [
       "<Figure size 720x432 with 1 Axes>"
      ]
     },
     "metadata": {
      "needs_background": "light"
     },
     "output_type": "display_data"
    }
   ],
   "source": [
    "credito.groupby('Gender')['Income'].mean().plot.bar(figsize=(10,6),rot=0);\n",
    "plt.title('Promedio en UDS Hombres v/s Mujeres',fontdict={'fontsize':16})\n",
    "plt.ylabel('Usd al Año')\n",
    "plt.xlabel('Genero');"
   ]
  },
  {
   "cell_type": "markdown",
   "metadata": {},
   "source": [
    "Se observa que por poco los hombres ganan más"
   ]
  },
  {
   "cell_type": "markdown",
   "metadata": {
    "colab_type": "text",
    "id": "lL74nHpK_7tS"
   },
   "source": [
    "* ¿Cuantas personas tienen al menos 3 ___Tarjetas de Credito___ y es menor de __30 años__?"
   ]
  },
  {
   "cell_type": "code",
   "execution_count": 29,
   "metadata": {
    "colab": {
     "base_uri": "https://localhost:8080/",
     "height": 235
    },
    "colab_type": "code",
    "id": "Q0XEntTZ_7tc",
    "outputId": "2d333c29-0fe7-48b6-fcea-50145ed148db"
   },
   "outputs": [
    {
     "data": {
      "text/html": [
       "<div>\n",
       "<style scoped>\n",
       "    .dataframe tbody tr th:only-of-type {\n",
       "        vertical-align: middle;\n",
       "    }\n",
       "\n",
       "    .dataframe tbody tr th {\n",
       "        vertical-align: top;\n",
       "    }\n",
       "\n",
       "    .dataframe thead th {\n",
       "        text-align: right;\n",
       "    }\n",
       "</style>\n",
       "<table border=\"1\" class=\"dataframe\">\n",
       "  <thead>\n",
       "    <tr style=\"text-align: right;\">\n",
       "      <th></th>\n",
       "      <th>Income</th>\n",
       "      <th>Limit</th>\n",
       "      <th>Rating</th>\n",
       "      <th>Cards</th>\n",
       "      <th>Age</th>\n",
       "      <th>Education</th>\n",
       "      <th>Gender</th>\n",
       "      <th>Student</th>\n",
       "      <th>Married</th>\n",
       "      <th>Ethnicity</th>\n",
       "      <th>Balance</th>\n",
       "    </tr>\n",
       "  </thead>\n",
       "  <tbody>\n",
       "    <tr>\n",
       "      <th>0</th>\n",
       "      <td>31861</td>\n",
       "      <td>6375</td>\n",
       "      <td>469</td>\n",
       "      <td>3</td>\n",
       "      <td>25</td>\n",
       "      <td>16</td>\n",
       "      <td>Female</td>\n",
       "      <td>No</td>\n",
       "      <td>Yes</td>\n",
       "      <td>Caucasian</td>\n",
       "      <td>1120</td>\n",
       "    </tr>\n",
       "    <tr>\n",
       "      <th>1</th>\n",
       "      <td>63931</td>\n",
       "      <td>5728</td>\n",
       "      <td>435</td>\n",
       "      <td>3</td>\n",
       "      <td>28</td>\n",
       "      <td>14</td>\n",
       "      <td>Female</td>\n",
       "      <td>No</td>\n",
       "      <td>Yes</td>\n",
       "      <td>African American</td>\n",
       "      <td>581</td>\n",
       "    </tr>\n",
       "    <tr>\n",
       "      <th>2</th>\n",
       "      <td>80861</td>\n",
       "      <td>4090</td>\n",
       "      <td>335</td>\n",
       "      <td>3</td>\n",
       "      <td>29</td>\n",
       "      <td>15</td>\n",
       "      <td>Female</td>\n",
       "      <td>No</td>\n",
       "      <td>Yes</td>\n",
       "      <td>Asian</td>\n",
       "      <td>0</td>\n",
       "    </tr>\n",
       "    <tr>\n",
       "      <th>3</th>\n",
       "      <td>29567</td>\n",
       "      <td>5309</td>\n",
       "      <td>397</td>\n",
       "      <td>3</td>\n",
       "      <td>25</td>\n",
       "      <td>15</td>\n",
       "      <td>Male</td>\n",
       "      <td>No</td>\n",
       "      <td>No</td>\n",
       "      <td>Caucasian</td>\n",
       "      <td>799</td>\n",
       "    </tr>\n",
       "    <tr>\n",
       "      <th>4</th>\n",
       "      <td>10503</td>\n",
       "      <td>2923</td>\n",
       "      <td>232</td>\n",
       "      <td>3</td>\n",
       "      <td>25</td>\n",
       "      <td>18</td>\n",
       "      <td>Female</td>\n",
       "      <td>No</td>\n",
       "      <td>Yes</td>\n",
       "      <td>African American</td>\n",
       "      <td>191</td>\n",
       "    </tr>\n",
       "    <tr>\n",
       "      <th>5</th>\n",
       "      <td>29638</td>\n",
       "      <td>5833</td>\n",
       "      <td>433</td>\n",
       "      <td>3</td>\n",
       "      <td>29</td>\n",
       "      <td>15</td>\n",
       "      <td>Female</td>\n",
       "      <td>No</td>\n",
       "      <td>Yes</td>\n",
       "      <td>Asian</td>\n",
       "      <td>942</td>\n",
       "    </tr>\n",
       "  </tbody>\n",
       "</table>\n",
       "</div>"
      ],
      "text/plain": [
       "   Income  Limit  Rating  Cards  Age  Education  Gender Student Married  \\\n",
       "0   31861   6375     469      3   25         16  Female      No     Yes   \n",
       "1   63931   5728     435      3   28         14  Female      No     Yes   \n",
       "2   80861   4090     335      3   29         15  Female      No     Yes   \n",
       "3   29567   5309     397      3   25         15    Male      No      No   \n",
       "4   10503   2923     232      3   25         18  Female      No     Yes   \n",
       "5   29638   5833     433      3   29         15  Female      No     Yes   \n",
       "\n",
       "          Ethnicity  Balance  \n",
       "0         Caucasian     1120  \n",
       "1  African American      581  \n",
       "2             Asian        0  \n",
       "3         Caucasian      799  \n",
       "4  African American      191  \n",
       "5             Asian      942  "
      ]
     },
     "execution_count": 29,
     "metadata": {},
     "output_type": "execute_result"
    }
   ],
   "source": [
    "credito[(credito['Cards']==3)&(credito['Age']<30)].reset_index(drop=True)\n"
   ]
  },
  {
   "cell_type": "markdown",
   "metadata": {
    "colab_type": "text",
    "id": "_P7lsqs4sujc"
   },
   "source": [
    "* ¿Quien esta más endeudado, **Hombres** o **Mujeres**?"
   ]
  },
  {
   "cell_type": "code",
   "execution_count": 30,
   "metadata": {
    "colab": {
     "base_uri": "https://localhost:8080/",
     "height": 334
    },
    "colab_type": "code",
    "id": "lAZijqrjsto0",
    "outputId": "8e4470f3-13bf-4a00-b0f4-69b9582ee32c"
   },
   "outputs": [
    {
     "data": {
      "image/png": "[encoded data removed]",
      "text/plain": [
       "<Figure size 720x432 with 1 Axes>"
      ]
     },
     "metadata": {
      "needs_background": "light"
     },
     "output_type": "display_data"
    }
   ],
   "source": [
    "credito.groupby('Gender')['Balance'].sum().plot.bar(figsize=(10,6),rot=0)\n",
    "plt.title('Genero que más se endeuda',fontdict={'fontsize':15})\n",
    "plt.xlabel('Genero')\n",
    "plt.ylabel('Endeudamiento');\n"
   ]
  },
  {
   "cell_type": "markdown",
   "metadata": {},
   "source": [
    "    Se observa que las mujeres estan más endeudadas"
   ]
  },
  {
   "cell_type": "markdown",
   "metadata": {
    "colab_type": "text",
    "id": "BrDsgZjziDyw"
   },
   "source": [
    "* ¿Quien tiene mas **tarjetas de credito**, Hombres o Mujeres?"
   ]
  },
  {
   "cell_type": "code",
   "execution_count": 31,
   "metadata": {
    "colab": {
     "base_uri": "https://localhost:8080/",
     "height": 316
    },
    "colab_type": "code",
    "id": "LBcRs7bAiPB5",
    "outputId": "550c56e8-0d89-43a5-f6d5-2dfd5d1fa39e"
   },
   "outputs": [
    {
     "data": {
      "image/png": "[encoded data removed]",
      "text/plain": [
       "<Figure size 720x432 with 1 Axes>"
      ]
     },
     "metadata": {
      "needs_background": "light"
     },
     "output_type": "display_data"
    }
   ],
   "source": [
    "credito.groupby('Gender')['Cards'].max().plot.bar(figsize=(10,6),rot=0)\n",
    "plt.title('Quien tiene mas Tarjetas',fontdict={'fontsize':15})\n",
    "plt.xlabel('Genero')\n",
    "plt.ylabel('Tarjetas de Credito');"
   ]
  },
  {
   "cell_type": "markdown",
   "metadata": {},
   "source": [
    "    Aunque el hombre tengas más tarjetas, esta menos endeudado"
   ]
  },
  {
   "cell_type": "markdown",
   "metadata": {
    "colab_type": "text",
    "id": "4i-Vju5su-gl"
   },
   "source": [
    "* Nivel de Educacion que gana más dinero al año\n"
   ]
  },
  {
   "cell_type": "code",
   "execution_count": 32,
   "metadata": {
    "colab": {
     "base_uri": "https://localhost:8080/",
     "height": 522
    },
    "colab_type": "code",
    "id": "BjaOakgGvHTo",
    "outputId": "5c4b785f-47c6-4918-ffdf-70108564f97f"
   },
   "outputs": [
    {
     "data": {
      "image/png": "[encoded data removed]",
      "text/plain": [
       "<Figure size 1008x576 with 1 Axes>"
      ]
     },
     "metadata": {
      "needs_background": "light"
     },
     "output_type": "display_data"
    }
   ],
   "source": [
    "credito.groupby('Education')['Income'].mean().plot.bar(figsize=(14,8),rot=0)\n",
    "plt.title('Nivel de Educacion que mas gana al año en Promedio', fontdict={'fontsize':14})\n",
    "plt.xlabel('Nivel de Educacion')\n",
    "plt.ylabel('Dolares al Año');"
   ]
  },
  {
   "cell_type": "markdown",
   "metadata": {
    "colab_type": "text",
    "id": "507GFB_h_7t4"
   },
   "source": [
    "# 4)  Generar análisis de correlación. Generar Matriz y scatterplots."
   ]
  },
  {
   "cell_type": "markdown",
   "metadata": {
    "colab_type": "text",
    "id": "3ErhID64YG_x"
   },
   "source": [
    "Vamos a binarizar las columnas que son categoricas para realizar de una forma mas completa el analisis de Correlación"
   ]
  },
  {
   "cell_type": "code",
   "execution_count": 33,
   "metadata": {
    "colab": {
     "base_uri": "https://localhost:8080/",
     "height": 221
    },
    "colab_type": "code",
    "id": "wGheLb2vYz0u",
    "outputId": "e4ee533e-b7e0-4654-956e-8eec673f5631"
   },
   "outputs": [
    {
     "data": {
      "text/plain": [
       "Income        int32\n",
       "Limit         int64\n",
       "Rating        int64\n",
       "Cards         int64\n",
       "Age           int64\n",
       "Education     int64\n",
       "Gender       object\n",
       "Student      object\n",
       "Married      object\n",
       "Ethnicity    object\n",
       "Balance       int64\n",
       "dtype: object"
      ]
     },
     "execution_count": 33,
     "metadata": {},
     "output_type": "execute_result"
    }
   ],
   "source": [
    "credito.dtypes"
   ]
  },
  {
   "cell_type": "code",
   "execution_count": 34,
   "metadata": {
    "colab": {},
    "colab_type": "code",
    "id": "-BpNSAhbYSN_"
   },
   "outputs": [],
   "source": [
    "x= credito[['Income','Limit','Rating','Cards','Age','Education','Balance']]\n",
    "dummies = pd.get_dummies(data=credito[['Gender','Student','Married','Ethnicity']], drop_first=True)\n",
    "binary_credito= dummies.add(x,fill_value=0)"
   ]
  },
  {
   "cell_type": "code",
   "execution_count": 35,
   "metadata": {
    "colab": {
     "base_uri": "https://localhost:8080/",
     "height": 514
    },
    "colab_type": "code",
    "id": "fU7Gpaqme97K",
    "outputId": "20272a12-e64a-4d21-89c9-33dfbcec7974"
   },
   "outputs": [
    {
     "data": {
      "text/html": [
       "<div>\n",
       "<style scoped>\n",
       "    .dataframe tbody tr th:only-of-type {\n",
       "        vertical-align: middle;\n",
       "    }\n",
       "\n",
       "    .dataframe tbody tr th {\n",
       "        vertical-align: top;\n",
       "    }\n",
       "\n",
       "    .dataframe thead th {\n",
       "        text-align: right;\n",
       "    }\n",
       "</style>\n",
       "<table border=\"1\" class=\"dataframe\">\n",
       "  <thead>\n",
       "    <tr style=\"text-align: right;\">\n",
       "      <th></th>\n",
       "      <th>Age</th>\n",
       "      <th>Balance</th>\n",
       "      <th>Cards</th>\n",
       "      <th>Education</th>\n",
       "      <th>Ethnicity_Asian</th>\n",
       "      <th>Ethnicity_Caucasian</th>\n",
       "      <th>Gender_Female</th>\n",
       "      <th>Income</th>\n",
       "      <th>Limit</th>\n",
       "      <th>Married_Yes</th>\n",
       "      <th>Rating</th>\n",
       "      <th>Student_Yes</th>\n",
       "    </tr>\n",
       "  </thead>\n",
       "  <tbody>\n",
       "    <tr>\n",
       "      <th>0</th>\n",
       "      <td>34.0</td>\n",
       "      <td>333.0</td>\n",
       "      <td>2.0</td>\n",
       "      <td>11.0</td>\n",
       "      <td>0.0</td>\n",
       "      <td>1.0</td>\n",
       "      <td>0.0</td>\n",
       "      <td>14891.0</td>\n",
       "      <td>3606.0</td>\n",
       "      <td>1.0</td>\n",
       "      <td>283.0</td>\n",
       "      <td>0.0</td>\n",
       "    </tr>\n",
       "    <tr>\n",
       "      <th>1</th>\n",
       "      <td>82.0</td>\n",
       "      <td>903.0</td>\n",
       "      <td>3.0</td>\n",
       "      <td>15.0</td>\n",
       "      <td>1.0</td>\n",
       "      <td>0.0</td>\n",
       "      <td>1.0</td>\n",
       "      <td>106025.0</td>\n",
       "      <td>6645.0</td>\n",
       "      <td>1.0</td>\n",
       "      <td>483.0</td>\n",
       "      <td>1.0</td>\n",
       "    </tr>\n",
       "    <tr>\n",
       "      <th>2</th>\n",
       "      <td>71.0</td>\n",
       "      <td>580.0</td>\n",
       "      <td>4.0</td>\n",
       "      <td>11.0</td>\n",
       "      <td>1.0</td>\n",
       "      <td>0.0</td>\n",
       "      <td>0.0</td>\n",
       "      <td>104593.0</td>\n",
       "      <td>7075.0</td>\n",
       "      <td>0.0</td>\n",
       "      <td>514.0</td>\n",
       "      <td>0.0</td>\n",
       "    </tr>\n",
       "    <tr>\n",
       "      <th>3</th>\n",
       "      <td>36.0</td>\n",
       "      <td>964.0</td>\n",
       "      <td>3.0</td>\n",
       "      <td>11.0</td>\n",
       "      <td>1.0</td>\n",
       "      <td>0.0</td>\n",
       "      <td>1.0</td>\n",
       "      <td>148924.0</td>\n",
       "      <td>9504.0</td>\n",
       "      <td>0.0</td>\n",
       "      <td>681.0</td>\n",
       "      <td>0.0</td>\n",
       "    </tr>\n",
       "    <tr>\n",
       "      <th>4</th>\n",
       "      <td>68.0</td>\n",
       "      <td>331.0</td>\n",
       "      <td>2.0</td>\n",
       "      <td>16.0</td>\n",
       "      <td>0.0</td>\n",
       "      <td>1.0</td>\n",
       "      <td>0.0</td>\n",
       "      <td>55882.0</td>\n",
       "      <td>4897.0</td>\n",
       "      <td>1.0</td>\n",
       "      <td>357.0</td>\n",
       "      <td>0.0</td>\n",
       "    </tr>\n",
       "    <tr>\n",
       "      <th>5</th>\n",
       "      <td>77.0</td>\n",
       "      <td>1151.0</td>\n",
       "      <td>4.0</td>\n",
       "      <td>10.0</td>\n",
       "      <td>0.0</td>\n",
       "      <td>1.0</td>\n",
       "      <td>0.0</td>\n",
       "      <td>8018.0</td>\n",
       "      <td>8047.0</td>\n",
       "      <td>0.0</td>\n",
       "      <td>569.0</td>\n",
       "      <td>0.0</td>\n",
       "    </tr>\n",
       "    <tr>\n",
       "      <th>6</th>\n",
       "      <td>37.0</td>\n",
       "      <td>203.0</td>\n",
       "      <td>2.0</td>\n",
       "      <td>12.0</td>\n",
       "      <td>0.0</td>\n",
       "      <td>0.0</td>\n",
       "      <td>1.0</td>\n",
       "      <td>20996.0</td>\n",
       "      <td>3388.0</td>\n",
       "      <td>0.0</td>\n",
       "      <td>259.0</td>\n",
       "      <td>0.0</td>\n",
       "    </tr>\n",
       "    <tr>\n",
       "      <th>7</th>\n",
       "      <td>87.0</td>\n",
       "      <td>872.0</td>\n",
       "      <td>2.0</td>\n",
       "      <td>9.0</td>\n",
       "      <td>1.0</td>\n",
       "      <td>0.0</td>\n",
       "      <td>0.0</td>\n",
       "      <td>71408.0</td>\n",
       "      <td>7114.0</td>\n",
       "      <td>0.0</td>\n",
       "      <td>512.0</td>\n",
       "      <td>0.0</td>\n",
       "    </tr>\n",
       "    <tr>\n",
       "      <th>8</th>\n",
       "      <td>66.0</td>\n",
       "      <td>279.0</td>\n",
       "      <td>5.0</td>\n",
       "      <td>13.0</td>\n",
       "      <td>0.0</td>\n",
       "      <td>1.0</td>\n",
       "      <td>1.0</td>\n",
       "      <td>15125.0</td>\n",
       "      <td>3300.0</td>\n",
       "      <td>0.0</td>\n",
       "      <td>266.0</td>\n",
       "      <td>0.0</td>\n",
       "    </tr>\n",
       "    <tr>\n",
       "      <th>9</th>\n",
       "      <td>41.0</td>\n",
       "      <td>1350.0</td>\n",
       "      <td>3.0</td>\n",
       "      <td>19.0</td>\n",
       "      <td>0.0</td>\n",
       "      <td>0.0</td>\n",
       "      <td>1.0</td>\n",
       "      <td>71061.0</td>\n",
       "      <td>6819.0</td>\n",
       "      <td>1.0</td>\n",
       "      <td>491.0</td>\n",
       "      <td>1.0</td>\n",
       "    </tr>\n",
       "  </tbody>\n",
       "</table>\n",
       "</div>"
      ],
      "text/plain": [
       "    Age  Balance  Cards  Education  Ethnicity_Asian  Ethnicity_Caucasian  \\\n",
       "0  34.0    333.0    2.0       11.0              0.0                  1.0   \n",
       "1  82.0    903.0    3.0       15.0              1.0                  0.0   \n",
       "2  71.0    580.0    4.0       11.0              1.0                  0.0   \n",
       "3  36.0    964.0    3.0       11.0              1.0                  0.0   \n",
       "4  68.0    331.0    2.0       16.0              0.0                  1.0   \n",
       "5  77.0   1151.0    4.0       10.0              0.0                  1.0   \n",
       "6  37.0    203.0    2.0       12.0              0.0                  0.0   \n",
       "7  87.0    872.0    2.0        9.0              1.0                  0.0   \n",
       "8  66.0    279.0    5.0       13.0              0.0                  1.0   \n",
       "9  41.0   1350.0    3.0       19.0              0.0                  0.0   \n",
       "\n",
       "   Gender_Female    Income   Limit  Married_Yes  Rating  Student_Yes  \n",
       "0            0.0   14891.0  3606.0          1.0   283.0          0.0  \n",
       "1            1.0  106025.0  6645.0          1.0   483.0          1.0  \n",
       "2            0.0  104593.0  7075.0          0.0   514.0          0.0  \n",
       "3            1.0  148924.0  9504.0          0.0   681.0          0.0  \n",
       "4            0.0   55882.0  4897.0          1.0   357.0          0.0  \n",
       "5            0.0    8018.0  8047.0          0.0   569.0          0.0  \n",
       "6            1.0   20996.0  3388.0          0.0   259.0          0.0  \n",
       "7            0.0   71408.0  7114.0          0.0   512.0          0.0  \n",
       "8            1.0   15125.0  3300.0          0.0   266.0          0.0  \n",
       "9            1.0   71061.0  6819.0          1.0   491.0          1.0  "
      ]
     },
     "execution_count": 35,
     "metadata": {},
     "output_type": "execute_result"
    }
   ],
   "source": [
    "binary_credito.head(10)"
   ]
  },
  {
   "cell_type": "markdown",
   "metadata": {
    "colab_type": "text",
    "id": "sMRBCxBI_7t6"
   },
   "source": [
    "Observemos la Correlación entre variables"
   ]
  },
  {
   "cell_type": "code",
   "execution_count": 36,
   "metadata": {
    "colab": {
     "base_uri": "https://localhost:8080/",
     "height": 469
    },
    "colab_type": "code",
    "id": "Sh9wTjY0_7t8",
    "outputId": "34d90e0f-3b5b-401a-d579-14fc066a9345",
    "scrolled": false
   },
   "outputs": [
    {
     "data": {
      "image/png": "[encoded data removed]",
      "text/plain": [
       "<Figure size 1296x432 with 2 Axes>"
      ]
     },
     "metadata": {
      "needs_background": "light"
     },
     "output_type": "display_data"
    }
   ],
   "source": [
    "# binary_credito.corr().round(3).style.background_gradient(cmap='YlOrBr')\n",
    "plt.figure(figsize=(18,6))\n",
    "mask = np.zeros_like(binary_credito.corr(method='pearson'), dtype=np.bool)\n",
    "mask[np.triu_indices_from(mask)] = True\n",
    "sns.heatmap(binary_credito.corr(),annot=True,fmt='.3f', mask=mask, cmap='YlOrBr',linewidths=.3);"
   ]
  },
  {
   "cell_type": "markdown",
   "metadata": {
    "colab_type": "text",
    "id": "WLxuoJDvJ0FT"
   },
   "source": [
    "Vamos a resaltar solo las correlaciones que estan por sobre un **0.4**"
   ]
  },
  {
   "cell_type": "code",
   "execution_count": 37,
   "metadata": {
    "colab": {
     "base_uri": "https://localhost:8080/",
     "height": 469
    },
    "colab_type": "code",
    "id": "cjkBFkybFj-8",
    "outputId": "605da9a9-cf96-4727-f5b2-baca04aba249"
   },
   "outputs": [
    {
     "data": {
      "image/png": "[encoded data removed]",
      "text/plain": [
       "<Figure size 1296x432 with 2 Axes>"
      ]
     },
     "metadata": {
      "needs_background": "light"
     },
     "output_type": "display_data"
    }
   ],
   "source": [
    "plt.figure(figsize=(18,6))\n",
    "a=binary_credito.corr()\n",
    "r=a[abs(a>=0.4)]\n",
    "sns.heatmap(r,annot=True,fmt='.3f', mask=mask, cmap='YlOrBr',linewidths=.3);"
   ]
  },
  {
   "cell_type": "markdown",
   "metadata": {
    "colab_type": "text",
    "id": "Ks2Cu-MG_7uC"
   },
   "source": [
    "Hay columnas que tienen una alta correlacion entre ellas, **Income** con **Balance** *(0.464)* **Limit** con **Balance** *(0.862)* **Rating** con **Balance** *(0.864)* **Limit** con **Income** *(0.792)* **Rating** con **Income** *(0.791)* y **Rating** con **Limit** *(0.997)*. Revisemos con scatterplots esa correlacion."
   ]
  },
  {
   "cell_type": "code",
   "execution_count": 38,
   "metadata": {
    "colab": {
     "base_uri": "https://localhost:8080/",
     "height": 301
    },
    "colab_type": "code",
    "id": "EAEC1nDk_7uE",
    "outputId": "ee8ae66f-3835-4a02-9420-62532105af8b",
    "scrolled": false
   },
   "outputs": [
    {
     "data": {
      "image/png": "[encoded data removed]",
      "text/plain": [
       "<Figure size 432x288 with 1 Axes>"
      ]
     },
     "metadata": {
      "needs_background": "light"
     },
     "output_type": "display_data"
    }
   ],
   "source": [
    "# Escojamos las columnas que se muestran con una alta correlacion en el heatmap\n",
    "sns.scatterplot(x='Income',y='Balance',data=credito)\n",
    "plt.title(f'Balance sobre Income',fontdict={'fontsize':15});"
   ]
  },
  {
   "cell_type": "markdown",
   "metadata": {
    "colab_type": "text",
    "id": "lhri21VHqb8A"
   },
   "source": [
    "A pesar de la dispersión entre **Balance** e **Income**, se puede ver una correlación positiva entre las columnas"
   ]
  },
  {
   "cell_type": "code",
   "execution_count": 39,
   "metadata": {
    "colab": {
     "base_uri": "https://localhost:8080/",
     "height": 301
    },
    "colab_type": "code",
    "id": "AQtgus0dqb8C",
    "outputId": "bc2e4500-7f6e-4796-e8d1-f6e7d35298c6"
   },
   "outputs": [
    {
     "data": {
      "image/png": "[encoded data removed]",
      "text/plain": [
       "<Figure size 432x288 with 1 Axes>"
      ]
     },
     "metadata": {
      "needs_background": "light"
     },
     "output_type": "display_data"
    }
   ],
   "source": [
    "sns.scatterplot(x='Limit',y='Balance',data=credito)\n",
    "plt.title(f'Balance sobre Limit',fontdict={'fontsize':15});"
   ]
  },
  {
   "cell_type": "markdown",
   "metadata": {
    "colab_type": "text",
    "id": "6TRJy8dNqb8H"
   },
   "source": [
    "**Balance** y **Limit** tambien muestran una correlación positiva y una menor dispención en comparacion al anterior gráfico"
   ]
  },
  {
   "cell_type": "code",
   "execution_count": 40,
   "metadata": {
    "colab": {
     "base_uri": "https://localhost:8080/",
     "height": 301
    },
    "colab_type": "code",
    "id": "MI7jxX0Zqb8J",
    "outputId": "04d44ef8-19a1-4f20-d202-29f219512a84"
   },
   "outputs": [
    {
     "data": {
      "image/png": "[encoded data removed]",
      "text/plain": [
       "<Figure size 432x288 with 1 Axes>"
      ]
     },
     "metadata": {
      "needs_background": "light"
     },
     "output_type": "display_data"
    }
   ],
   "source": [
    "sns.scatterplot(x='Rating',y='Balance',data=credito)\n",
    "plt.title(f'Balance sobre Rating',fontdict={'fontsize':15});"
   ]
  },
  {
   "cell_type": "markdown",
   "metadata": {
    "colab_type": "text",
    "id": "spmGDEzFkogJ"
   },
   "source": [
    "Se puede observar una correlacion positiva entre las columnas **Balance** y **Rating**"
   ]
  },
  {
   "cell_type": "code",
   "execution_count": 41,
   "metadata": {
    "colab": {
     "base_uri": "https://localhost:8080/",
     "height": 285
    },
    "colab_type": "code",
    "id": "vCnA9eFVntVg",
    "outputId": "509bf2bd-1073-47b8-f45e-80bb676bd10a"
   },
   "outputs": [
    {
     "data": {
      "image/png": "[encoded data removed]",
      "text/plain": [
       "<Figure size 432x288 with 1 Axes>"
      ]
     },
     "metadata": {
      "needs_background": "light"
     },
     "output_type": "display_data"
    }
   ],
   "source": [
    "#corrleacion de Limit e Income\n",
    "sns.scatterplot(x='Limit',y='Income',data=credito);"
   ]
  },
  {
   "cell_type": "markdown",
   "metadata": {
    "colab_type": "text",
    "id": "VEIO-52Xzd66"
   },
   "source": [
    "Hay una correlación positiva entre la columna **Income** y la columna **Limit**"
   ]
  },
  {
   "cell_type": "code",
   "execution_count": 42,
   "metadata": {
    "colab": {
     "base_uri": "https://localhost:8080/",
     "height": 285
    },
    "colab_type": "code",
    "id": "_lflNKRGqb8U",
    "outputId": "605c1472-948a-47a0-c6d5-f4ca514782b3"
   },
   "outputs": [
    {
     "data": {
      "image/png": "[encoded data removed]",
      "text/plain": [
       "<Figure size 432x288 with 1 Axes>"
      ]
     },
     "metadata": {
      "needs_background": "light"
     },
     "output_type": "display_data"
    }
   ],
   "source": [
    "#corrleacion de Rating e Income\n",
    "sns.scatterplot(x='Rating',y='Income',data=credito);"
   ]
  },
  {
   "cell_type": "markdown",
   "metadata": {
    "colab_type": "text",
    "id": "XOHBXB29zqaz"
   },
   "source": [
    "Entre **Rating** e **Income** se observa una correlación positiva también"
   ]
  },
  {
   "cell_type": "code",
   "execution_count": 43,
   "metadata": {
    "colab": {
     "base_uri": "https://localhost:8080/",
     "height": 285
    },
    "colab_type": "code",
    "id": "xOwUP1J0qb8a",
    "outputId": "3ed33e64-d190-43f1-9c38-fddd4acf058f"
   },
   "outputs": [
    {
     "data": {
      "image/png": "[encoded data removed]",
      "text/plain": [
       "<Figure size 432x288 with 1 Axes>"
      ]
     },
     "metadata": {
      "needs_background": "light"
     },
     "output_type": "display_data"
    }
   ],
   "source": [
    "#corrleacion de Rating y Limit\n",
    "sns.scatterplot(x='Rating',y='Limit',data=credito);"
   ]
  },
  {
   "cell_type": "markdown",
   "metadata": {
    "colab_type": "text",
    "id": "FFj64bQwpiL-"
   },
   "source": [
    "Podemos observar que en el ultimo grafico el cual es **Limit** y **Rating**, existe una muy **alta correlacion positiva**"
   ]
  },
  {
   "cell_type": "markdown",
   "metadata": {
    "colab_type": "text",
    "id": "2thFzH88_7uK"
   },
   "source": [
    "# 5) Generar una función que dibuje un histograma y que además identifique de manera visual la media y mediana. Esta función debe ser aplicada para las variables ‘Balance’, ‘Income’, ‘Rating’ y ‘cards’. Según los gráficos generados, como es el comportamiento de estas variables.\n"
   ]
  },
  {
   "cell_type": "code",
   "execution_count": 44,
   "metadata": {
    "colab": {},
    "colab_type": "code",
    "id": "VDzq7XbN_7uM"
   },
   "outputs": [],
   "source": [
    "def histograma(df,col):\n",
    "    plt.subplots_adjust(hspace=0.35)\n",
    "    df[col].plot.hist(figsize=(15,7))\n",
    "    plt.title(f'Histograma de {col}', fontdict={'fontsize':15})\n",
    "    plt.xlabel(col)\n",
    "    plt.axvline(df[col].mean(), color='r', linestyle='dashed', linewidth=2)\n",
    "    plt.axvline(df[col].median(), color='y', linestyle='dashed', linewidth=2);\n",
    "    plt.legend((f'Media {round(df[col].mean(),1)}',f'Mediana {round(df[col].median(),1)}'));\n",
    "    return"
   ]
  },
  {
   "cell_type": "code",
   "execution_count": 45,
   "metadata": {
    "colab": {
     "base_uri": "https://localhost:8080/",
     "height": 464
    },
    "colab_type": "code",
    "id": "651j9DBh_7uR",
    "outputId": "7285b3f5-f235-4153-cd76-24f78256de38"
   },
   "outputs": [
    {
     "data": {
      "image/png": "[encoded data removed]",
      "text/plain": [
       "<Figure size 1080x504 with 4 Axes>"
      ]
     },
     "metadata": {
      "needs_background": "light"
     },
     "output_type": "display_data"
    }
   ],
   "source": [
    "col_need=credito[['Income','Rating','Cards','Balance']]\n",
    "for index,name in enumerate(col_need):\n",
    "    plt.subplot(2,2,index+1)\n",
    "    histograma(col_need,name)"
   ]
  },
  {
   "cell_type": "markdown",
   "metadata": {
    "colab_type": "text",
    "id": "6EU3zv9O4gJk"
   },
   "source": [
    "Observaciones de los Histogramas:\n",
    "\n",
    "* En los **Histograma de Income y Balance** se puede observar que la **Mediana** esta separada de la **Media** ya que la primera es menor a la **Media**.\n",
    "* En el **Histograma de Rating** La medida de la **Media** es muy similar a la **Mediana**.\n",
    "* En el **Histograma de Cards** tanto la **Media y la Mediana** son iguales\n"
   ]
  },
  {
   "cell_type": "markdown",
   "metadata": {
    "colab_type": "text",
    "id": "stlPtm5yBBzn"
   },
   "source": [
    "# Regresion Lineal\n",
    "Items del 6 al 9"
   ]
  },
  {
   "cell_type": "markdown",
   "metadata": {
    "colab_type": "text",
    "id": "1wnBe1TqBORQ"
   },
   "source": [
    "## 6)  Generar 3 regresiones lineales simple para la variable “Balance” (variable dependiente) utilizando como variables independientes  ‘Student’, ‘Income’, ‘Rating’ respectivamente (una para cada regresión). Identificar coeficientes de la recta y ver cuales de estas tres explica de mejor forma el fenómeno.\n"
   ]
  },
  {
   "cell_type": "code",
   "execution_count": 46,
   "metadata": {
    "colab": {},
    "colab_type": "code",
    "id": "CCbNCRSBQfom"
   },
   "outputs": [],
   "source": [
    "#Se usara Statsmodels para realizar la regresion lineal\n",
    "import statsmodels.api as sm\n",
    "from statsmodels.api import add_constant"
   ]
  },
  {
   "cell_type": "markdown",
   "metadata": {
    "colab_type": "text",
    "id": "Po3LuNGzP5Xo"
   },
   "source": [
    "X(variable independiente) = 'Student' ,'Income','Rating'\n",
    "\n",
    "Y(variable dependiente) = 'Balance'"
   ]
  },
  {
   "cell_type": "code",
   "execution_count": 47,
   "metadata": {
    "colab": {
     "base_uri": "https://localhost:8080/",
     "height": 204
    },
    "colab_type": "code",
    "id": "4ilIa4f1JSt1",
    "outputId": "c7671b7b-6bab-4043-ed0c-9f22b61659bc"
   },
   "outputs": [
    {
     "data": {
      "text/html": [
       "<div>\n",
       "<style scoped>\n",
       "    .dataframe tbody tr th:only-of-type {\n",
       "        vertical-align: middle;\n",
       "    }\n",
       "\n",
       "    .dataframe tbody tr th {\n",
       "        vertical-align: top;\n",
       "    }\n",
       "\n",
       "    .dataframe thead th {\n",
       "        text-align: right;\n",
       "    }\n",
       "</style>\n",
       "<table border=\"1\" class=\"dataframe\">\n",
       "  <thead>\n",
       "    <tr style=\"text-align: right;\">\n",
       "      <th></th>\n",
       "      <th>Age</th>\n",
       "      <th>Balance</th>\n",
       "      <th>Cards</th>\n",
       "      <th>Education</th>\n",
       "      <th>Ethnicity_Asian</th>\n",
       "      <th>Ethnicity_Caucasian</th>\n",
       "      <th>Gender_Female</th>\n",
       "      <th>Income</th>\n",
       "      <th>Limit</th>\n",
       "      <th>Married_Yes</th>\n",
       "      <th>Rating</th>\n",
       "      <th>Student_Yes</th>\n",
       "    </tr>\n",
       "  </thead>\n",
       "  <tbody>\n",
       "    <tr>\n",
       "      <th>0</th>\n",
       "      <td>34.0</td>\n",
       "      <td>333.0</td>\n",
       "      <td>2.0</td>\n",
       "      <td>11.0</td>\n",
       "      <td>0.0</td>\n",
       "      <td>1.0</td>\n",
       "      <td>0.0</td>\n",
       "      <td>14891.0</td>\n",
       "      <td>3606.0</td>\n",
       "      <td>1.0</td>\n",
       "      <td>283.0</td>\n",
       "      <td>0.0</td>\n",
       "    </tr>\n",
       "    <tr>\n",
       "      <th>1</th>\n",
       "      <td>82.0</td>\n",
       "      <td>903.0</td>\n",
       "      <td>3.0</td>\n",
       "      <td>15.0</td>\n",
       "      <td>1.0</td>\n",
       "      <td>0.0</td>\n",
       "      <td>1.0</td>\n",
       "      <td>106025.0</td>\n",
       "      <td>6645.0</td>\n",
       "      <td>1.0</td>\n",
       "      <td>483.0</td>\n",
       "      <td>1.0</td>\n",
       "    </tr>\n",
       "    <tr>\n",
       "      <th>2</th>\n",
       "      <td>71.0</td>\n",
       "      <td>580.0</td>\n",
       "      <td>4.0</td>\n",
       "      <td>11.0</td>\n",
       "      <td>1.0</td>\n",
       "      <td>0.0</td>\n",
       "      <td>0.0</td>\n",
       "      <td>104593.0</td>\n",
       "      <td>7075.0</td>\n",
       "      <td>0.0</td>\n",
       "      <td>514.0</td>\n",
       "      <td>0.0</td>\n",
       "    </tr>\n",
       "    <tr>\n",
       "      <th>3</th>\n",
       "      <td>36.0</td>\n",
       "      <td>964.0</td>\n",
       "      <td>3.0</td>\n",
       "      <td>11.0</td>\n",
       "      <td>1.0</td>\n",
       "      <td>0.0</td>\n",
       "      <td>1.0</td>\n",
       "      <td>148924.0</td>\n",
       "      <td>9504.0</td>\n",
       "      <td>0.0</td>\n",
       "      <td>681.0</td>\n",
       "      <td>0.0</td>\n",
       "    </tr>\n",
       "    <tr>\n",
       "      <th>4</th>\n",
       "      <td>68.0</td>\n",
       "      <td>331.0</td>\n",
       "      <td>2.0</td>\n",
       "      <td>16.0</td>\n",
       "      <td>0.0</td>\n",
       "      <td>1.0</td>\n",
       "      <td>0.0</td>\n",
       "      <td>55882.0</td>\n",
       "      <td>4897.0</td>\n",
       "      <td>1.0</td>\n",
       "      <td>357.0</td>\n",
       "      <td>0.0</td>\n",
       "    </tr>\n",
       "  </tbody>\n",
       "</table>\n",
       "</div>"
      ],
      "text/plain": [
       "    Age  Balance  Cards  Education  Ethnicity_Asian  Ethnicity_Caucasian  \\\n",
       "0  34.0    333.0    2.0       11.0              0.0                  1.0   \n",
       "1  82.0    903.0    3.0       15.0              1.0                  0.0   \n",
       "2  71.0    580.0    4.0       11.0              1.0                  0.0   \n",
       "3  36.0    964.0    3.0       11.0              1.0                  0.0   \n",
       "4  68.0    331.0    2.0       16.0              0.0                  1.0   \n",
       "\n",
       "   Gender_Female    Income   Limit  Married_Yes  Rating  Student_Yes  \n",
       "0            0.0   14891.0  3606.0          1.0   283.0          0.0  \n",
       "1            1.0  106025.0  6645.0          1.0   483.0          1.0  \n",
       "2            0.0  104593.0  7075.0          0.0   514.0          0.0  \n",
       "3            1.0  148924.0  9504.0          0.0   681.0          0.0  \n",
       "4            0.0   55882.0  4897.0          1.0   357.0          0.0  "
      ]
     },
     "execution_count": 47,
     "metadata": {},
     "output_type": "execute_result"
    }
   ],
   "source": [
    "binary_credito.head()"
   ]
  },
  {
   "cell_type": "markdown",
   "metadata": {
    "colab_type": "text",
    "id": "uZ_wVKnYW113"
   },
   "source": [
    "**1) Regresion Linear Simple de Income sobre Balance**"
   ]
  },
  {
   "cell_type": "code",
   "execution_count": 48,
   "metadata": {
    "colab": {
     "base_uri": "https://localhost:8080/",
     "height": 496
    },
    "colab_type": "code",
    "id": "-4GJZlvVIu-M",
    "outputId": "a1c0621b-6590-435b-cc12-dad1ef224aa5"
   },
   "outputs": [
    {
     "name": "stdout",
     "output_type": "stream",
     "text": [
      "                            OLS Regression Results                            \n",
      "==============================================================================\n",
      "Dep. Variable:                Balance   R-squared:                       0.187\n",
      "Model:                            OLS   Adj. R-squared:                  0.185\n",
      "Method:                 Least Squares   F-statistic:                     91.65\n",
      "Date:                Fri, 22 Nov 2019   Prob (F-statistic):           1.12e-19\n",
      "Time:                        00:13:40   Log-Likelihood:                -2977.9\n",
      "No. Observations:                 400   AIC:                             5960.\n",
      "Df Residuals:                     398   BIC:                             5968.\n",
      "Df Model:                           1                                         \n",
      "Covariance Type:            nonrobust                                         \n",
      "==============================================================================\n",
      "                 coef    std err          t      P>|t|      [0.025      0.975]\n",
      "------------------------------------------------------------------------------\n",
      "const        292.2487     31.570      9.257      0.000     230.184     354.313\n",
      "Income         0.0056      0.001      9.573      0.000       0.004       0.007\n",
      "==============================================================================\n",
      "Omnibus:                       30.592   Durbin-Watson:                   1.941\n",
      "Prob(Omnibus):                  0.000   Jarque-Bera (JB):               22.684\n",
      "Skew:                           0.479   Prob(JB):                     1.19e-05\n",
      "Kurtosis:                       2.333   Cond. No.                     8.21e+04\n",
      "==============================================================================\n",
      "\n",
      "Warnings:\n",
      "[1] Standard Errors assume that the covariance matrix of the errors is correctly specified.\n",
      "[2] The condition number is large, 8.21e+04. This might indicate that there are\n",
      "strong multicollinearity or other numerical problems.\n"
     ]
    },
    {
     "name": "stderr",
     "output_type": "stream",
     "text": [
      "E:\\MachineLearning\\lib\\site-packages\\numpy\\core\\fromnumeric.py:2389: FutureWarning: Method .ptp is deprecated and will be removed in a future version. Use numpy.ptp instead.\n",
      "  return ptp(axis=axis, out=out, **kwargs)\n"
     ]
    }
   ],
   "source": [
    "X = binary_credito['Income']\n",
    "Y = binary_credito['Balance']\n",
    "\n",
    "X = sm.add_constant(X)\n",
    "modelo = sm.OLS(Y, X).fit()\n",
    "predicciones = modelo.predict(X) \n",
    "\n",
    "print_model = modelo.summary()\n",
    "print(print_model)"
   ]
  },
  {
   "cell_type": "code",
   "execution_count": 49,
   "metadata": {},
   "outputs": [
    {
     "data": {
      "text/plain": [
       "const     292.248704\n",
       "Income      0.005600\n",
       "dtype: float64"
      ]
     },
     "execution_count": 49,
     "metadata": {},
     "output_type": "execute_result"
    }
   ],
   "source": [
    "modelo.params"
   ]
  },
  {
   "cell_type": "markdown",
   "metadata": {
    "colab_type": "text",
    "id": "y78-vodHXGLl"
   },
   "source": [
    "Podemos observar que nuestro modelo tiene un \"**Adj. R-squared: 0.185**\" equivalente a un **18%** lo cual no explica que la columna **Income** sirva para predecir **Balance**"
   ]
  },
  {
   "cell_type": "markdown",
   "metadata": {},
   "source": [
    "**2) Regresion Linear Simple de Student_Yes sobre Balance**"
   ]
  },
  {
   "cell_type": "code",
   "execution_count": 50,
   "metadata": {
    "colab": {
     "base_uri": "https://localhost:8080/",
     "height": 496
    },
    "colab_type": "code",
    "id": "TUc-ie9ThLgh",
    "outputId": "1ab7487c-d1fb-47a5-94cc-a4c43ef53f57"
   },
   "outputs": [
    {
     "name": "stdout",
     "output_type": "stream",
     "text": [
      "                            OLS Regression Results                            \n",
      "==============================================================================\n",
      "Dep. Variable:                Balance   R-squared:                       0.067\n",
      "Model:                            OLS   Adj. R-squared:                  0.065\n",
      "Method:                 Least Squares   F-statistic:                     28.62\n",
      "Date:                Fri, 22 Nov 2019   Prob (F-statistic):           1.49e-07\n",
      "Time:                        00:13:40   Log-Likelihood:                -3005.5\n",
      "No. Observations:                 400   AIC:                             6015.\n",
      "Df Residuals:                     398   BIC:                             6023.\n",
      "Df Model:                           1                                         \n",
      "Covariance Type:            nonrobust                                         \n",
      "===============================================================================\n",
      "                  coef    std err          t      P>|t|      [0.025      0.975]\n",
      "-------------------------------------------------------------------------------\n",
      "const         480.3694     23.434     20.499      0.000     434.300     526.439\n",
      "Student_Yes   396.4556     74.104      5.350      0.000     250.771     542.140\n",
      "==============================================================================\n",
      "Omnibus:                       20.866   Durbin-Watson:                   1.950\n",
      "Prob(Omnibus):                  0.000   Jarque-Bera (JB):               21.920\n",
      "Skew:                           0.544   Prob(JB):                     1.74e-05\n",
      "Kurtosis:                       2.637   Cond. No.                         3.37\n",
      "==============================================================================\n",
      "\n",
      "Warnings:\n",
      "[1] Standard Errors assume that the covariance matrix of the errors is correctly specified.\n"
     ]
    }
   ],
   "source": [
    "X1 = binary_credito['Student_Yes']\n",
    "Y1 = binary_credito['Balance']\n",
    "\n",
    "X1 = sm.add_constant(X1)\n",
    "modelo1= sm.OLS(Y1,X1).fit()\n",
    "predicciones1= modelo1.predict(X1)\n",
    "\n",
    "ver_modelo1= modelo1.summary()\n",
    "print(ver_modelo1)"
   ]
  },
  {
   "cell_type": "code",
   "execution_count": 51,
   "metadata": {},
   "outputs": [
    {
     "data": {
      "text/plain": [
       "const          480.369444\n",
       "Student_Yes    396.455556\n",
       "dtype: float64"
      ]
     },
     "execution_count": 51,
     "metadata": {},
     "output_type": "execute_result"
    }
   ],
   "source": [
    "modelo1.params"
   ]
  },
  {
   "cell_type": "markdown",
   "metadata": {
    "colab_type": "text",
    "id": "3zvY4pLXj6YJ"
   },
   "source": [
    "Definitivamente la columna **Student_Yes** no es explicativa con respecto a **Balance** ya que tiene un **Adj. R-squared: 0.065** del **6%**"
   ]
  },
  {
   "cell_type": "markdown",
   "metadata": {},
   "source": [
    "**3) Regresion Linear Simple de Rating sobre Balance**"
   ]
  },
  {
   "cell_type": "code",
   "execution_count": 52,
   "metadata": {
    "colab": {
     "base_uri": "https://localhost:8080/",
     "height": 496
    },
    "colab_type": "code",
    "id": "tOheUlzcj7FK",
    "outputId": "18e8905c-3ba4-4b14-e07f-1975ae79166e"
   },
   "outputs": [
    {
     "name": "stdout",
     "output_type": "stream",
     "text": [
      "                            OLS Regression Results                            \n",
      "==============================================================================\n",
      "Dep. Variable:                Balance   R-squared:                       0.746\n",
      "Model:                            OLS   Adj. R-squared:                  0.745\n",
      "Method:                 Least Squares   F-statistic:                     1168.\n",
      "Date:                Fri, 22 Nov 2019   Prob (F-statistic):          1.90e-120\n",
      "Time:                        00:13:41   Log-Likelihood:                -2745.4\n",
      "No. Observations:                 400   AIC:                             5495.\n",
      "Df Residuals:                     398   BIC:                             5503.\n",
      "Df Model:                           1                                         \n",
      "Covariance Type:            nonrobust                                         \n",
      "==============================================================================\n",
      "                 coef    std err          t      P>|t|      [0.025      0.975]\n",
      "------------------------------------------------------------------------------\n",
      "const       -390.8463     29.069    -13.446      0.000    -447.993    -333.699\n",
      "Rating         2.5662      0.075     34.176      0.000       2.419       2.714\n",
      "==============================================================================\n",
      "Omnibus:                       23.223   Durbin-Watson:                   1.966\n",
      "Prob(Omnibus):                  0.000   Jarque-Bera (JB):               38.802\n",
      "Skew:                           0.390   Prob(JB):                     3.75e-09\n",
      "Kurtosis:                       4.311   Cond. No.                         970.\n",
      "==============================================================================\n",
      "\n",
      "Warnings:\n",
      "[1] Standard Errors assume that the covariance matrix of the errors is correctly specified.\n"
     ]
    }
   ],
   "source": [
    "X2 = binary_credito['Rating']\n",
    "Y2 = binary_credito['Balance']\n",
    "\n",
    "X2 = sm.add_constant(X2)\n",
    "modelo2 = sm.OLS(Y2,X2).fit()\n",
    "predicciones2 = modelo2.predict(X2)\n",
    "\n",
    "ver_modelo2 = modelo2.summary()\n",
    "print(ver_modelo2)"
   ]
  },
  {
   "cell_type": "code",
   "execution_count": 53,
   "metadata": {},
   "outputs": [
    {
     "data": {
      "text/plain": [
       "const    -390.846342\n",
       "Rating      2.566240\n",
       "dtype: float64"
      ]
     },
     "execution_count": 53,
     "metadata": {},
     "output_type": "execute_result"
    }
   ],
   "source": [
    "modelo2.params"
   ]
  },
  {
   "cell_type": "markdown",
   "metadata": {
    "colab_type": "text",
    "id": "ca7si_mXA4e1"
   },
   "source": [
    "En este modelo la columna **Rating** es mas explicativa para predecir **Balance** ya que tiene un **Adj. R-squared: 0.745** subiendo a un **75%** su predicción pero no es sufuciente aún"
   ]
  },
  {
   "cell_type": "markdown",
   "metadata": {
    "colab_type": "text",
    "id": "J6flf6HNBa_-"
   },
   "source": [
    "\n",
    "## 7) Genere una nueva regresión lineal utilizando todos los regresores (todas las columnas). Indique cuales son sus coeficientes. ¿Cual es el que más repercute en el modelo?"
   ]
  },
  {
   "cell_type": "code",
   "execution_count": 54,
   "metadata": {
    "colab": {
     "base_uri": "https://localhost:8080/",
     "height": 700
    },
    "colab_type": "code",
    "id": "eFTj4Xc3Bg40",
    "outputId": "6c8a4efa-0af9-415d-ee88-64f9fe62269e"
   },
   "outputs": [
    {
     "name": "stdout",
     "output_type": "stream",
     "text": [
      "                            OLS Regression Results                            \n",
      "==============================================================================\n",
      "Dep. Variable:                Balance   R-squared:                       0.892\n",
      "Model:                            OLS   Adj. R-squared:                  0.889\n",
      "Method:                 Least Squares   F-statistic:                     290.5\n",
      "Date:                Fri, 22 Nov 2019   Prob (F-statistic):          1.21e-179\n",
      "Time:                        00:13:41   Log-Likelihood:                -2574.7\n",
      "No. Observations:                 400   AIC:                             5173.\n",
      "Df Residuals:                     388   BIC:                             5221.\n",
      "Df Model:                          11                                         \n",
      "Covariance Type:            nonrobust                                         \n",
      "=======================================================================================\n",
      "                          coef    std err          t      P>|t|      [0.025      0.975]\n",
      "---------------------------------------------------------------------------------------\n",
      "const                -369.0293     55.128     -6.694      0.000    -477.417    -260.642\n",
      "Age                    -1.6551      0.452     -3.662      0.000      -2.544      -0.767\n",
      "Cards                  27.7949      6.721      4.135      0.000      14.580      41.009\n",
      "Education              -0.1303      2.481     -0.053      0.958      -5.008       4.748\n",
      "Ethnicity_Asian         4.4138     21.933      0.201      0.841     -38.708      47.535\n",
      "Ethnicity_Caucasian    -1.0530     19.000     -0.055      0.956     -38.408      36.302\n",
      "Gender_Female          -6.9949     15.395     -0.454      0.650     -37.264      23.274\n",
      "Income                 -0.0047      0.000    -15.267      0.000      -0.005      -0.004\n",
      "Limit                   0.2372      0.051      4.642      0.000       0.137       0.338\n",
      "Married_Yes            -3.8340     16.114     -0.238      0.812     -35.516      27.848\n",
      "Rating                 -0.1913      0.761     -0.251      0.802      -1.687       1.305\n",
      "Student_Yes           424.7875     25.988     16.345      0.000     373.692     475.883\n",
      "==============================================================================\n",
      "Omnibus:                      119.685   Durbin-Watson:                   2.062\n",
      "Prob(Omnibus):                  0.000   Jarque-Bera (JB):              431.140\n",
      "Skew:                          -1.308   Prob(JB):                     2.39e-94\n",
      "Kurtosis:                       7.361   Cond. No.                     3.94e+05\n",
      "==============================================================================\n",
      "\n",
      "Warnings:\n",
      "[1] Standard Errors assume that the covariance matrix of the errors is correctly specified.\n",
      "[2] The condition number is large, 3.94e+05. This might indicate that there are\n",
      "strong multicollinearity or other numerical problems.\n"
     ]
    }
   ],
   "source": [
    "X_A = binary_credito[['Age','Cards','Education','Ethnicity_Asian','Ethnicity_Caucasian','Gender_Female','Income','Limit','Married_Yes','Rating','Student_Yes']]\n",
    "Y3 = binary_credito['Balance']\n",
    "\n",
    "X_A = sm.add_constant(X_A)\n",
    "modelo3 = sm.OLS(Y3,X_A).fit()\n",
    "predicciones3 = modelo3.predict(X_A)\n",
    "\n",
    "ver_modelo3 = modelo3.summary()\n",
    "print(ver_modelo3)"
   ]
  },
  {
   "cell_type": "markdown",
   "metadata": {
    "colab_type": "text",
    "id": "8rz2abxxBcDD"
   },
   "source": [
    "Podemos observar que al utilizar todas las columnas nos entrega un **Adj. R-squared: 0.889** dejando ver que este modelo explica en un **89%** el comportamiento de **Balance**."
   ]
  },
  {
   "cell_type": "code",
   "execution_count": 55,
   "metadata": {
    "colab": {
     "base_uri": "https://localhost:8080/",
     "height": 238
    },
    "colab_type": "code",
    "id": "36GlNzjeLAPh",
    "outputId": "4bd976ea-d74f-4a2b-ff71-bf9e43f7e243"
   },
   "outputs": [
    {
     "data": {
      "text/plain": [
       "const                 -369.029334\n",
       "Age                     -1.655104\n",
       "Cards                   27.794941\n",
       "Education               -0.130294\n",
       "Ethnicity_Asian          4.413765\n",
       "Ethnicity_Caucasian     -1.053030\n",
       "Gender_Female           -6.994918\n",
       "Income                  -0.004712\n",
       "Limit                    0.237178\n",
       "Married_Yes             -3.833956\n",
       "Rating                  -0.191322\n",
       "Student_Yes            424.787535\n",
       "dtype: float64"
      ]
     },
     "execution_count": 55,
     "metadata": {},
     "output_type": "execute_result"
    }
   ],
   "source": [
    "modelo3.params"
   ]
  },
  {
   "cell_type": "code",
   "execution_count": 56,
   "metadata": {
    "colab": {
     "base_uri": "https://localhost:8080/",
     "height": 34
    },
    "colab_type": "code",
    "id": "4yUIpTPP-lST",
    "outputId": "81242d73-6cd0-49fe-e9d0-f571ab44849c"
   },
   "outputs": [
    {
     "data": {
      "text/plain": [
       "424.78753527040874"
      ]
     },
     "execution_count": 56,
     "metadata": {},
     "output_type": "execute_result"
    }
   ],
   "source": [
    "modelo3.params.max()"
   ]
  },
  {
   "cell_type": "markdown",
   "metadata": {
    "colab_type": "text",
    "id": "95jddJ7EBhuS"
   },
   "source": [
    "## 8) Utilizando `lmplot` de `seaborn`, inspeccione el comportamiento de los tres principales determinantes. ¿Qué comportamiento observa?."
   ]
  },
  {
   "cell_type": "markdown",
   "metadata": {
    "colab_type": "text",
    "id": "Slh05zBq0XXa"
   },
   "source": [
    "He escogido a **Rating** , **Income** , **Student_Yes** como las 3 principales determinantes a mi parecer usando su pvalues como referencia"
   ]
  },
  {
   "cell_type": "code",
   "execution_count": 57,
   "metadata": {
    "colab": {
     "base_uri": "https://localhost:8080/",
     "height": 1000
    },
    "colab_type": "code",
    "id": "prD5qG47BoFQ",
    "outputId": "67683662-4c1b-421d-91a6-1fd948844cdf"
   },
   "outputs": [
    {
     "data": {
      "image/png": "[encoded data removed]",
      "text/plain": [
       "<Figure size 360x360 with 1 Axes>"
      ]
     },
     "metadata": {},
     "output_type": "display_data"
    },
    {
     "data": {
      "image/png": "[encoded data removed]",
      "text/plain": [
       "<Figure size 360x360 with 1 Axes>"
      ]
     },
     "metadata": {},
     "output_type": "display_data"
    },
    {
     "data": {
      "image/png": "[encoded data removed]",
      "text/plain": [
       "<Figure size 360x360 with 1 Axes>"
      ]
     },
     "metadata": {},
     "output_type": "display_data"
    }
   ],
   "source": [
    "sns.set(color_codes=True)\n",
    "graf = binary_credito[['Income','Limit','Student_Yes']]\n",
    "for index,nam in enumerate(graf):\n",
    "  sns.lmplot(x=nam, y=\"Balance\", data=binary_credito)\n"
   ]
  },
  {
   "cell_type": "markdown",
   "metadata": {
    "colab_type": "text",
    "id": "y-q2_Fxv0w__"
   },
   "source": [
    "Tanto en **Income** y **Limit** se observa que aunque hay dispersión en los puntos hay una correlación positiva, y en **Student_Yes** la concentración de datos se encuentra en los que no estudian"
   ]
  },
  {
   "cell_type": "markdown",
   "metadata": {
    "colab_type": "text",
    "id": "zmwaoO5wBorO"
   },
   "source": [
    "## 9) Bonus:  Depure el modelo utilizando solo los regresores más significativos (pvalues =< 0.025) Genere un nuevo modelo con solo estos regresores. ¿Qué diferencias encuentra con respecto al modelo de la pregunta 7.?\n"
   ]
  },
  {
   "cell_type": "code",
   "execution_count": 58,
   "metadata": {
    "colab": {
     "base_uri": "https://localhost:8080/",
     "height": 598
    },
    "colab_type": "code",
    "id": "bM2_udO4UWY5",
    "outputId": "3ae24f7f-894c-4ea7-e4c4-163b5d750852",
    "scrolled": false
   },
   "outputs": [
    {
     "name": "stdout",
     "output_type": "stream",
     "text": [
      "                            OLS Regression Results                            \n",
      "==============================================================================\n",
      "Dep. Variable:                Balance   R-squared:                       0.892\n",
      "Model:                            OLS   Adj. R-squared:                  0.890\n",
      "Method:                 Least Squares   F-statistic:                     648.2\n",
      "Date:                Fri, 22 Nov 2019   Prob (F-statistic):          1.40e-187\n",
      "Time:                        00:13:44   Log-Likelihood:                -2575.0\n",
      "No. Observations:                 400   AIC:                             5162.\n",
      "Df Residuals:                     394   BIC:                             5186.\n",
      "Df Model:                           5                                         \n",
      "Covariance Type:            nonrobust                                         \n",
      "===============================================================================\n",
      "                  coef    std err          t      P>|t|      [0.025      0.975]\n",
      "-------------------------------------------------------------------------------\n",
      "const        -380.6323     33.314    -11.426      0.000    -446.127    -315.138\n",
      "Age            -1.6563      0.446     -3.712      0.000      -2.534      -0.779\n",
      "Cards          26.9643      5.571      4.840      0.000      16.013      37.916\n",
      "Income         -0.0047      0.000    -15.430      0.000      -0.005      -0.004\n",
      "Limit           0.2243      0.005     47.933      0.000       0.215       0.233\n",
      "Student_Yes   424.4392     25.441     16.683      0.000     374.422     474.456\n",
      "==============================================================================\n",
      "Omnibus:                      122.152   Durbin-Watson:                   2.060\n",
      "Prob(Omnibus):                  0.000   Jarque-Bera (JB):              452.693\n",
      "Skew:                          -1.327   Prob(JB):                     5.00e-99\n",
      "Kurtosis:                       7.486   Cond. No.                     2.40e+05\n",
      "==============================================================================\n",
      "\n",
      "Warnings:\n",
      "[1] Standard Errors assume that the covariance matrix of the errors is correctly specified.\n",
      "[2] The condition number is large, 2.4e+05. This might indicate that there are\n",
      "strong multicollinearity or other numerical problems.\n"
     ]
    }
   ],
   "source": [
    "X_A1 = binary_credito[['Age','Cards','Income','Limit','Student_Yes']]\n",
    "Y31 = binary_credito['Balance']\n",
    "\n",
    "X_A1 = sm.add_constant(X_A1)\n",
    "modelo31 = sm.OLS(Y31,X_A1).fit()\n",
    "predicciones31 = modelo31.predict(X_A1)\n",
    "\n",
    "ver_modelo31 = modelo31.summary()\n",
    "print(ver_modelo31)"
   ]
  },
  {
   "cell_type": "markdown",
   "metadata": {
    "colab_type": "text",
    "id": "CS5sHqt4T-0V"
   },
   "source": [
    "Al observar el modelo del punto **7)** en el cual usamos todas las columnas, nuestro modelo explico en un *95%* el comportamiento de balance. Ahora depuramos el modelo con **Pvalues** quitando columnas que tienen un valor menor igual a **0.025** (pvalues<=0.025).\n",
    "\n",
    "En conclusión nos damos cuenta que nuestro modelo sigue explicando en un **89%** el comportamiento de **Balance** pero libera la carga de tiempo en procesar los datos."
   ]
  }
 ],
 "metadata": {
  "colab": {
   "collapsed_sections": [],
   "name": "Proyecto_6__Activación_de_conceptos_y_Regresión_Lineal.ipynb",
   "provenance": []
  },
  "kernelspec": {
   "display_name": "Python 3",
   "language": "python",
   "name": "python3"
  },
  "language_info": {
   "codemirror_mode": {
    "name": "ipython",
    "version": 3
   },
   "file_extension": ".py",
   "mimetype": "text/x-python",
   "name": "python",
   "nbconvert_exporter": "python",
   "pygments_lexer": "ipython3",
   "version": "3.7.3"
  }
 },
 "nbformat": 4,
 "nbformat_minor": 1
}
