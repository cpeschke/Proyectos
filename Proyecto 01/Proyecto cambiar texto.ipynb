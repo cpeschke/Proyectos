{
 "cells": [
  {
   "cell_type": "code",
   "execution_count": 1,
   "metadata": {
    "ExecuteTime": {
     "end_time": "2020-01-19T05:20:00.576728Z",
     "start_time": "2020-01-19T05:20:00.522733Z"
    }
   },
   "outputs": [],
   "source": [
    "#funcion leer diccionario \n",
    "def leer_diccionario():\n",
    "    dic= dict()                          #se define 'dic' como un diccionario vacio\n",
    "    with open (\"diccionario.txt\") as f:  # se abre el archivo \"diccionario.txt\" nombrandolo como 'f'\n",
    "        for linea in f:                  #inicia un ciclo donde 'linea' recorre cada linea de f(diccionario.txt) y la guarda en 'linea'\n",
    "            linea=linea.split()          #separa en elementos cada linea y la almacena en 'linea'\n",
    "            dic[linea[0]] = linea[1:]    #luego busca el primer string de la linea y la asigna como clave del diccionario y el resto desde la segunda posicion como valores de la clave\n",
    "    return dic                           #retorna el resultado de la variable 'dic'\n",
    "    f.closed()                           #Cierra el archivo para liberar memoria\n",
    "    print(leer_diccionario())\n",
    "leer=leer_diccionario()\n",
    "\n",
    "#------------------------------------------------------------------------------------------------------------------------------------------------------------------------------------------\n",
    "\n",
    "#funcion separar palabra v2\n",
    "def separar_palabra():\n",
    "    lin=[]                        #se define lin como lista\n",
    "    with open (\"texto.txt\") as t: #se abre el archivo \"texto.txt\" nombrandolo como 't'\n",
    "        for line in t:            #inicia un ciclo donde 'line' recorre cada linea de t(texto.txt) y la guarda en 'line'\n",
    "            line1=line.split()    #separa en elementos cada linea y la almacena en 'linea1'\n",
    "            lin.append(line1)     #agrega los elementos separados en 'linea1' a la lista lin\n",
    "    return lin                    #retorna el resultado de la variable 'lin'\n",
    "    f.closed()                    #Cierra el archivo para liberar memoria\n",
    "    print(separar_palabra())\n",
    "line=separar_palabra()\n",
    "\n",
    "#------------------------------------------------------------------------------------------------------------------------------------------------------------------------------------------\n",
    "\n",
    "#Funcion para Reemplazar palabras clave por la misma que se encuentra en el texto\n",
    "def cambiar_palabra():\n",
    "    k=[]                                 #k es una lista vacia donde almacenar resultados\n",
    "    todoeltexto=[]                       #Se almacenara el texto completo\n",
    "    for i in line:                       #ciclo donde 'i' toma el valor de la posicion de 'line' y la recorre\n",
    "        for j in i:                      #ciclo donde 'j' toma el valor de la posicion de 'i' y la recorre\n",
    "            x=j                          #'x' toma el valor de 'j'\n",
    "            try:                         #con este comando intentaremos ejecutar una sentencia\n",
    "                leer[j]                  #'j' toma el valor de la \"key\" de 'leer'\n",
    "                if j not in k:           #pregunta si el valor \"key\" de 'j' no esta en la lista 'k' (la cual al principio esta vacia)\n",
    "                    k.append(j)          #almacena el valor \"key\" en k si no estaba antes\n",
    "                else:                    #si encuentra la \"key\" ejecuta el ELSE\n",
    "                    v=leer[j].pop(0)     #### entre        sentencias         las palabras\n",
    "                    leer[j].append(v)    ####       estas             rotamos               que usamos como sinonimos\n",
    "                    x= v                 #'x' es una variable de control que almacena datos temporales\n",
    "            except:                      #este comando realiza una excepcion en el caso de que encuentre un error y no finaliza el programa\n",
    "                    pass                 #deja ejecutar el programa aunque encuentre un error\n",
    "            finally:                     #finaliza los intentos cuando completa la acion de cambiar las palabras\n",
    "                todoeltexto.append(x)    #almacena todo el texto donde estan las palabras claves (gato y mono)\n",
    "    return todoeltexto                   #retorna el resultado de todoeltexto cerrando la funcion (cambiar_palabra)\n",
    "todoeltexto = cambiar_palabra()\n",
    "\n",
    "#------------------------------------------------------------------------------------------------------------------------------------------------------------------------------------------\n",
    "\n",
    "#funcion que prepara archivo para que cada linea tenga un maximo de 60 caracteres y asi guardar\n",
    "def preparar_archivo():\n",
    "    texto_para_guardar=[]     #lista vacia para almacenar las oraciones de hasta 60 caracteres\n",
    "    texto_listo=str           #es un string que se usara para almacenar los item de la lista y mostrar como caracteres\n",
    "    oracion=[]                #lista que va almacenado cada palabra y asi comparar y ver si es mayor o igual a 60 caracteres \n",
    "    ora=str                   #variable de control que almacena datos temporales\n",
    "    for i in todoeltexto:     #se inicia el ciclo donde i recorre la lista 'todoeltexto'\n",
    "        oracion.append(i)     #agrega el valor de 'i' a la lista oracion\n",
    "        cion=ora              #'cion' es igual a 'ora' para realizar un control\n",
    "        ora=\" \".join(oracion) #lo que tiene  la lista oracion se le agrega un caracter en blanco y se almacena en 'ora' como string para medir y saber si es mayor o igual a 60 caracteres\n",
    "        if len(ora)>=60:      #si la cantidad de caracteres de ora >= a 60 caracteres es VERDADERO \n",
    "            oracion=[]           #vaciara la lista 'oracion' y\n",
    "            oracion.append(i)    #guardara el ultimo valor que almacena 'i' para comparar nuevamente en la proxima oracion\n",
    "            texto_para_guardar.append(cion)  #y almacenara la oracion completa que cuenta con los los caracteres suficientes\n",
    "    \n",
    "    texto_para_guardar.append(ora)    #tambien almacenaremos el resto de la oracion que no cumple la condicion de ser >= a 60 caracteres\n",
    "    texto_listo=\"\\n\".join(texto_para_guardar)  #Cambiamos la lista 'texto_para_guardar' a string agregando un salto de linea\n",
    "    return texto_listo          #retorna el resultado de texto_listo cerrando la funcion (preparar_archivo)\n",
    "textolisto=preparar_archivo()\n",
    "\n",
    "#------------------------------------------------------------------------------------------------------------------------------------------------------------------------------------------\n",
    "\n",
    "#funcion para grabar archivo al final de texto.txt para ver diferencia\n",
    "def grabar_archivo():          \n",
    "    texto=open(\"texto.txt\",\"r\")          #lee el archivo 'texto.txt' y asi...       \n",
    "    texto1=texto.read()                  #almacenar su informacion en la variable 'texto1'\n",
    "    \n",
    "    nuevo_texto=open(\"nuevo texto.txt\",\"a\")  #Crea un nuevo archivo llamado 'nuevo texto.txt' en donde mostraremos los resuktados \n",
    "    nuevo_texto.write(texto1+\"\\n\"+\"\\n\"+\"Correccion del texto cambiando gato y mono por sinonimos\"+\"\\n\"+\"\\n\"+textolisto) #Escribe en el nuevo archivo lo que habia en 'texto.txt' y lo compara con el nuevo texto donde se cambiaron las palabras gato y mono por sus sinonimos\n",
    "    nuevo_texto.close()                 #Cierra el nuevo archivo liberando la memoria\n",
    "   \n"
   ]
  },
  {
   "cell_type": "code",
   "execution_count": 2,
   "metadata": {
    "ExecuteTime": {
     "end_time": "2020-01-19T05:20:01.958744Z",
     "start_time": "2020-01-19T05:20:01.911733Z"
    }
   },
   "outputs": [],
   "source": [
    "grabar_archivo()"
   ]
  },
  {
   "cell_type": "code",
   "execution_count": null,
   "metadata": {},
   "outputs": [],
   "source": []
  }
 ],
 "metadata": {
  "kernelspec": {
   "display_name": "Python 3",
   "language": "python",
   "name": "python3"
  },
  "language_info": {
   "codemirror_mode": {
    "name": "ipython",
    "version": 3
   },
   "file_extension": ".py",
   "mimetype": "text/x-python",
   "name": "python",
   "nbconvert_exporter": "python",
   "pygments_lexer": "ipython3",
   "version": "3.7.3"
  },
  "toc": {
   "base_numbering": 1,
   "nav_menu": {},
   "number_sections": true,
   "sideBar": true,
   "skip_h1_title": false,
   "title_cell": "Table of Contents",
   "title_sidebar": "Contents",
   "toc_cell": false,
   "toc_position": {},
   "toc_section_display": true,
   "toc_window_display": false
  }
 },
 "nbformat": 4,
 "nbformat_minor": 2
}
